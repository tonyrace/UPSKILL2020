{
 "cells": [
  {
   "cell_type": "code",
   "execution_count": null,
   "metadata": {},
   "outputs": [],
   "source": [
    "oldformat = '20140716' datetimeobject = datetime. strptime(oldformat,'%Y%m%d')\n",
    "newformat = datetimeobject. strftime('%m-%d-%Y') print newformat. 07-16-2014.\n",
    "newformat2 = datetimeobject. strftime('%m/%d/%Y') print newformat2. 07/16/2014.\n",
    "\n",
    "oldformat = '20140716'\n",
    "datetimeobject =datetime.strptime(oldformat,'%y%m%d')\n",
    "newformat = datetimeobject.strftime('%m-%d-%y')\n"
   ]
  }
 ],
 "metadata": {
  "kernelspec": {
   "display_name": "Python 3",
   "language": "python",
   "name": "python3"
  },
  "language_info": {
   "codemirror_mode": {
    "name": "ipython",
    "version": 3
   },
   "file_extension": ".py",
   "mimetype": "text/x-python",
   "name": "python",
   "nbconvert_exporter": "python",
   "pygments_lexer": "ipython3",
   "version": "3.7.4"
  }
 },
 "nbformat": 4,
 "nbformat_minor": 2
}
