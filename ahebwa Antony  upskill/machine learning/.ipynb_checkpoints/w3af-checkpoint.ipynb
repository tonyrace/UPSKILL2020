{
 "cells": [
  {
   "cell_type": "code",
   "execution_count": 3,
   "metadata": {},
   "outputs": [],
   "source": [
    "# ###import packages to  use through out\n",
    "import pandas as pd \n",
    "import numpy as np\n",
    "from numpy import loadtxt\n",
    "import collections as cl\n",
    "import user_agents as ua\n",
    "from user_agents import parse\n",
    "import ua_parser as ps\n",
    "import re\n",
    "import datetime\n",
    "import csv\n",
    "from io import StringIO\n",
    "from datetime import datetime\n",
    "import matplotlib as plt"
   ]
  },
  {
   "cell_type": "code",
   "execution_count": 4,
   "metadata": {},
   "outputs": [
    {
     "name": "stdout",
     "output_type": "stream",
     "text": [
      "acune_dataset.ipynb  netsparker.ipynb  w3af.csv    w3af.txt\r\n",
      "acunetix.txt         netsparker.txt    w3af.ipynb\r\n"
     ]
    }
   ],
   "source": [
    "ls\n"
   ]
  },
  {
   "cell_type": "code",
   "execution_count": 5,
   "metadata": {},
   "outputs": [],
   "source": [
    "# formating to obtain date format from the logs\n",
    "month_map = {'Jan': 1, 'Feb': 2, 'Mar':3, 'Apr':4, 'May':5, 'Jun':6, 'Jul':7,\n",
    "    'Aug':8,  'Sep': 9, 'Oct':10, 'Nov': 11, 'Dec': 12}\n",
    "def parse_apache_time(s):\n",
    "    \"\"\"Convert Apache time format into a python datetime object\n",
    "    args:\n",
    "    s(str):date and time in Apache time format\n",
    "    Return:\n",
    "    datetime:datetime object \n",
    "    \"\"\"\n",
    "    return datetime.datetime(int(s[7:11]),month_map[s[3:6]],int(s[0:2]),int(s[12:14]),int(s[15:17]),int(s[18:20]))\n",
    "def parseLogline(logline):\n",
    "    \"\"\"Parse a line the apache common log format\n",
    "    args:\n",
    "    logline is a line to read and formatted to suite the APACHE_ACCESS_LOG_PATTERN\n",
    "    APACHE_ACCESS_LOG_PATTERN is a regrex that extracts and formats data considering apache log formts to obtain fields\n",
    "    forexample userid,protocol,method,user agents,referrers,response code \n",
    "    return\n",
    "    The function will return a list \n",
    "    \"\"\"\n",
    "    APACHE_ACCESS_LOG_PATTERN = '^(\\S+) (\\S+) (\\S+) \\[([\\w:/]+\\s[+\\-]\\d{4})\\] \"(\\S+) (\\S+) (\\S+)\" (\\d{3}) (\\d+) \"((?:[^”]|”)+)\" \"((?:[^”]|”)+)\"$'\n",
    "    DATETIME_PARSE_PATTERN = '%d/%b/%Y:%H:%M:%S %z'\n",
    "    match =re.search(APACHE_ACCESS_LOG_PATTERN,logline)\n",
    "    if match is None:\n",
    "        return None\n",
    "    date_obj = datetime.strptime(match.group(4),DATETIME_PARSE_PATTERN)#obtain date format\n",
    "    \n",
    "    return [match.group(1),match.group(2),match.group(3),match.group(4),date_obj.timestamp(),date_obj.strftime('%Y-%m-%d'),match.group(5),match.group(6),match.group(7),match.group(10),match.group(11),int(match.group(8)),int(match.group(9))]\n",
    "    "
   ]
  },
  {
   "cell_type": "code",
   "execution_count": 6,
   "metadata": {},
   "outputs": [],
   "source": [
    "def reader(filename):\n",
    "    \"\"\"\n",
    "    This fuction reads a txt logfile\n",
    "    args:\n",
    "    filename is a txt file name to read\n",
    "    return:\n",
    "    Pandas Dataframe\n",
    "    \"\"\"\n",
    "    list_data=[]\n",
    "    with open(filename ,'r') as f:\n",
    "        for lk in f:\n",
    "            data=parseLogline(lk)#calling parseLogline function\n",
    "            list_data.append(data)#append each line to list\n",
    "            #creating a pandas dataframe\n",
    "        return pd.DataFrame(list_data,columns=('host', 'client_identd', 'user_id','date_time','timestamp','date','method','endpoint','protocol','referrer','user_agent','response_code','content_size'))\n"
   ]
  },
  {
   "cell_type": "code",
   "execution_count": 7,
   "metadata": {},
   "outputs": [],
   "source": [
    "w3af=reader(\"w3af.txt\")#function call of a reader function"
   ]
  },
  {
   "cell_type": "code",
   "execution_count": 9,
   "metadata": {},
   "outputs": [
    {
     "data": {
      "text/plain": [
       "1"
      ]
     },
     "execution_count": 9,
     "metadata": {},
     "output_type": "execute_result"
    }
   ],
   "source": [
    "long_string = \"students.washington.edu/squakmix/reflect.php?param=<script>alert('xss!');</script>\"\n",
    "def xss_detector(line):\n",
    "    \"\"\"\n",
    "    args:\n",
    "    line to be checked for cross site scripting attack\n",
    "    return:\n",
    "    The function returns 0 is there is an attack\n",
    "    1 if the line doesnt have an attack threat\n",
    "    \n",
    "    /((\\%3C)|<)((\\%2F)|\\/)*[a-z0-9\\%]+((\\%3E)|>)/ix\n",
    "\n",
    "    Explanation:\n",
    "    ((\\%3C)|<) - check for opening angle bracket or hex equivalent\n",
    "    ((\\%2F)|\\/)* - the forward slash for a closing tag or its hex equivalent\n",
    "    [a-z0-9\\%]+ - check for alphanumeric string inside the tag, or hex representation of these\n",
    "    ((\\%3E)|>) - check for closing angle bracket or hex equivalent\n",
    "    \n",
    "    /((\\%3C)|<)((\\%69)|i|(\\%49))((\\%6D)|m|(\\%4D))((\\%67)|g|(\\%47))[^\\n]+((\\%3E)|>)/I\n",
    "\n",
    "    Explanation:\n",
    "    (\\%3C)|<) opening angled bracket or hex equivalent\n",
    "    (\\%69)|i|(\\%49))((\\%6D)|m|(\\%4D))((\\%67)|g|(\\%47) the letters 'img' in varying combinations of ASCII, or upper or lower case hex equivalents\n",
    "    [^\\n]+ any character other than a new line following the <img\n",
    "    (\\%3E)|>) closing angled bracket or hex equivalent\n",
    "    \n",
    "    /((\\%3C)|<)[^\\n]+((\\%3E)|>)/I\n",
    "\n",
    "Explanation:\n",
    "This signature simply looks for the opening HTML tag, and its hex equivalent, followed by one or more characters other than the newline, and then followed by the closing tag or its hex equivalent. This may end up giving a few false positives depending upon how your Web application and Web server are structured, but it is guaranteed to catch anything that even remotely resembles a cross-site scripting attack.\n",
    "    \"\"\"\n",
    "    regex = re.compile(r'/((\\%3C)|<)((\\%2F)|\\/)*[a-z0-9\\%]+((\\%3E)|>)/ix') \n",
    "    regex_test1=re.compile(r'/((\\%3C)|<)((\\%69)|i|(\\%49))((\\%6D)|m|(\\%4D))((\\%67)|g|(\\%47))[^\\n]+((\\%3E)|>)/I ')\n",
    "    regex_test2=re.compile(r'/((\\%3C)|<)[^\\n]+((\\%3E)|>)/I ')\n",
    "    # Pass the string in search  \n",
    "    # method of regex object.     \n",
    "    if(regex.search(line) == None): \n",
    "        if(regex_test1.search(line)== None):\n",
    "            if(regex_test2.search(line)==None):\n",
    "                return 1\n",
    "            else:\n",
    "                return 0\n",
    "        else:\n",
    "             return 0\n",
    "          \n",
    "    else: \n",
    "        return 0 \n",
    "xss_detector(long_string)"
   ]
  },
  {
   "cell_type": "code",
   "execution_count": 7,
   "metadata": {},
   "outputs": [
    {
     "data": {
      "text/plain": [
       "1"
      ]
     },
     "execution_count": 7,
     "metadata": {},
     "output_type": "execute_result"
    }
   ],
   "source": [
    "\n",
    "def sql_detector(line):\n",
    "    \"\"\"\n",
    "    args:line to be checked for sqli injection attack\n",
    "    return:\n",
    "    0-if a check is failed\n",
    "    1-if a check is passed\n",
    "    /((\\%3D)|(=))[^\\n]*((\\%27)|(\\')|(\\-\\-)|(\\%3B)|(;))/i  checking for sql meta-characters\n",
    "    \n",
    "    /\\w*((\\%27)|(\\'))((\\%6F)|o|(\\%4F))((\\%72)|r|(\\%52))/ix\n",
    "    Explanation:\n",
    "    \\w* - zero or more alphanumeric or underscore characters\n",
    "    (\\%27)|\\' - the ubiquitous single-quote or its hex equivalent\n",
    "    (\\%6F)|o|(\\%4F))((\\%72)|r|(\\%52) - the word 'or' with various combinations of its upper and lower case hex equivalents\n",
    "    \n",
    "        /((\\%27)|(\\'))union/ix\n",
    "    (\\%27)|(\\') - the single-quote and its hex equivalent\n",
    "    union - the keyword union\n",
    "    \n",
    "    /exec(\\s|\\+)+(s|x)p\\w+/ix\n",
    "    Explanation:\n",
    "    exec - the keyword required to run the stored or extended procedure\n",
    "    (\\s|\\+)+ - one or more whitespaces or their HTTP encoded equivalents\n",
    "    (s|x)p - the letters 'sp' or 'xp' to identify stored or extended procedures respectively\n",
    "    \\w+ - one or more alphanumeric or underscore characters to complete the name of the procedure\n",
    "    \"\"\"\n",
    "    regex_test0=re.compile('/((\\%3D)|(=))[^\\n]*((\\%27)|(\\')|(\\-\\-)|(\\%3B)|(;))/i ')\n",
    "    regex_test1=re.compile('/\\w*((\\%27)|(\\'))((\\%6F)|o|(\\%4F))((\\%72)|r|(\\%52))/ix ')\n",
    "    regex_test2=re.compile('/((\\%27)|(\\'))union/ix')\n",
    "    regex_test3=re.compile('/exec(\\s|\\+)+(s|x)p\\w+/ix ')\n",
    "    if(regex_test0.search(line)==None):\n",
    "        if(regex_test1.search(line)==None):\n",
    "            if(regex_test2.search(line)==None):\n",
    "                if(regex_test3.search(line)==None):\n",
    "                    return 1\n",
    "                else:\n",
    "                    return 0\n",
    "            else:\n",
    "                return 0\n",
    "        else:\n",
    "            return 0\n",
    "    else:\n",
    "        return 0\n",
    "sql_detector(long_string)"
   ]
  },
  {
   "cell_type": "code",
   "execution_count": 8,
   "metadata": {},
   "outputs": [],
   "source": [
    "# function to run both xss and sqli attack\n",
    "def xss_sqli(data):\n",
    "    \"\"\"\n",
    "    arg:data is a dataframe \n",
    "    This function executes functions to detect xss and sql injection \n",
    "    It compares results from both functions and creates a column of type1 attacks in dataframe\n",
    "    \"\"\"\n",
    "    method=data[\"method\"]\n",
    "    endpoint=data[\"endpoint\"]\n",
    "    protocol=data[\"protocol\"]\n",
    "    url=method+endpoint+protocol\n",
    "    xss_result=xss_detector(url)\n",
    "    sqli_result=sql_detector(url)\n",
    "    if xss_result== 1 & sqli_result == 1:\n",
    "        return 1\n",
    "    elif xss_result==1 | sqli_result ==0:\n",
    "        return 1\n",
    "    elif sqli_result ==1 | xss_result ==0:\n",
    "        return 1\n",
    "    else:\n",
    "        return 0\n",
    "    "
   ]
  },
  {
   "cell_type": "code",
   "execution_count": 9,
   "metadata": {},
   "outputs": [],
   "source": [
    "w3af['type1']=w3af.apply(xss_sqli,axis = 1)#apply user defined function to pandas dataframe"
   ]
  },
  {
   "cell_type": "code",
   "execution_count": 10,
   "metadata": {},
   "outputs": [],
   "source": [
    "#checking type 2 useragents\n",
    "#type make arequest for '/robots.txt'\n",
    "#robots have a higher rate of \"4XX\"\n",
    "#Have a higher unassigned referrer(\"-\") rates\n",
    "#may contain keywords like bot,crawler,spider,wanderer and robot\n",
    "def type2_rule(s):\n",
    "    pattern=[\"robot\",\"bot\",\"crawler\",\"spider\",\"wanderer\"]#list of words that could be found in the user agents\n",
    "    request=\"/robots.txt\" #ruke to check the request whether made by robot\n",
    "    #Obtain columns from the dataframe\n",
    "    refer=s[\"response_code\"]\n",
    "    endpoint=s['endpoint']\n",
    "    user_agent=s['user_agent']\n",
    "#     checking for type2 results following rule base model\n",
    "    if refer>=400:\n",
    "        return 1\n",
    "    elif request==endpoint:\n",
    "        return 1\n",
    "    elif user_agent in pattern:\n",
    "        return 1\n",
    "    else:\n",
    "        return 0\n",
    "\n",
    "        \n",
    "\n",
    "\n",
    " "
   ]
  },
  {
   "cell_type": "code",
   "execution_count": 11,
   "metadata": {},
   "outputs": [],
   "source": [
    "w3af['type2']=w3af.apply(type2_rule,axis = 1)#apply type2 rule to create a set of type2 results"
   ]
  },
  {
   "cell_type": "code",
   "execution_count": 12,
   "metadata": {},
   "outputs": [
    {
     "data": {
      "text/html": [
       "<div>\n",
       "<style scoped>\n",
       "    .dataframe tbody tr th:only-of-type {\n",
       "        vertical-align: middle;\n",
       "    }\n",
       "\n",
       "    .dataframe tbody tr th {\n",
       "        vertical-align: top;\n",
       "    }\n",
       "\n",
       "    .dataframe thead th {\n",
       "        text-align: right;\n",
       "    }\n",
       "</style>\n",
       "<table border=\"1\" class=\"dataframe\">\n",
       "  <thead>\n",
       "    <tr style=\"text-align: right;\">\n",
       "      <th></th>\n",
       "      <th>host</th>\n",
       "      <th>client_identd</th>\n",
       "      <th>user_id</th>\n",
       "      <th>date_time</th>\n",
       "      <th>timestamp</th>\n",
       "      <th>date</th>\n",
       "      <th>method</th>\n",
       "      <th>endpoint</th>\n",
       "      <th>protocol</th>\n",
       "      <th>referrer</th>\n",
       "      <th>user_agent</th>\n",
       "      <th>response_code</th>\n",
       "      <th>content_size</th>\n",
       "      <th>type1</th>\n",
       "      <th>type2</th>\n",
       "    </tr>\n",
       "  </thead>\n",
       "  <tbody>\n",
       "    <tr>\n",
       "      <th>3991</th>\n",
       "      <td>192.168.1.20</td>\n",
       "      <td>-</td>\n",
       "      <td>-</td>\n",
       "      <td>22/Dec/2016:21:47:11 +0300</td>\n",
       "      <td>1.482432e+09</td>\n",
       "      <td>2016-12-22</td>\n",
       "      <td>GET</td>\n",
       "      <td>/DVWA/cIS6Baqc.htm</td>\n",
       "      <td>HTTP/1.1</td>\n",
       "      <td>-</td>\n",
       "      <td>w3af.org</td>\n",
       "      <td>404</td>\n",
       "      <td>451</td>\n",
       "      <td>1</td>\n",
       "      <td>1</td>\n",
       "    </tr>\n",
       "    <tr>\n",
       "      <th>3992</th>\n",
       "      <td>192.168.1.20</td>\n",
       "      <td>-</td>\n",
       "      <td>-</td>\n",
       "      <td>22/Dec/2016:21:47:11 +0300</td>\n",
       "      <td>1.482432e+09</td>\n",
       "      <td>2016-12-22</td>\n",
       "      <td>GET</td>\n",
       "      <td>/DVWA/BR3zjRfE.gif</td>\n",
       "      <td>HTTP/1.1</td>\n",
       "      <td>-</td>\n",
       "      <td>w3af.org</td>\n",
       "      <td>404</td>\n",
       "      <td>451</td>\n",
       "      <td>1</td>\n",
       "      <td>1</td>\n",
       "    </tr>\n",
       "    <tr>\n",
       "      <th>3993</th>\n",
       "      <td>192.168.1.20</td>\n",
       "      <td>-</td>\n",
       "      <td>-</td>\n",
       "      <td>22/Dec/2016:21:47:12 +0300</td>\n",
       "      <td>1.482432e+09</td>\n",
       "      <td>2016-12-22</td>\n",
       "      <td>GET</td>\n",
       "      <td>/DVWA/sQgerkoh.xhtml</td>\n",
       "      <td>HTTP/1.1</td>\n",
       "      <td>-</td>\n",
       "      <td>w3af.org</td>\n",
       "      <td>404</td>\n",
       "      <td>453</td>\n",
       "      <td>1</td>\n",
       "      <td>1</td>\n",
       "    </tr>\n",
       "    <tr>\n",
       "      <th>3994</th>\n",
       "      <td>192.168.1.20</td>\n",
       "      <td>-</td>\n",
       "      <td>-</td>\n",
       "      <td>22/Dec/2016:21:47:12 +0300</td>\n",
       "      <td>1.482432e+09</td>\n",
       "      <td>2016-12-22</td>\n",
       "      <td>GET</td>\n",
       "      <td>/DVWA/</td>\n",
       "      <td>HTTP/1.1</td>\n",
       "      <td>-</td>\n",
       "      <td>w3af.org</td>\n",
       "      <td>302</td>\n",
       "      <td>329</td>\n",
       "      <td>1</td>\n",
       "      <td>0</td>\n",
       "    </tr>\n",
       "    <tr>\n",
       "      <th>3995</th>\n",
       "      <td>192.168.1.20</td>\n",
       "      <td>-</td>\n",
       "      <td>-</td>\n",
       "      <td>22/Dec/2016:21:47:12 +0300</td>\n",
       "      <td>1.482432e+09</td>\n",
       "      <td>2016-12-22</td>\n",
       "      <td>GET</td>\n",
       "      <td>/DVWA/</td>\n",
       "      <td>HTTP/1.1</td>\n",
       "      <td>-</td>\n",
       "      <td>w3af.org</td>\n",
       "      <td>302</td>\n",
       "      <td>329</td>\n",
       "      <td>1</td>\n",
       "      <td>0</td>\n",
       "    </tr>\n",
       "  </tbody>\n",
       "</table>\n",
       "</div>"
      ],
      "text/plain": [
       "              host client_identd user_id                   date_time  \\\n",
       "3991  192.168.1.20             -       -  22/Dec/2016:21:47:11 +0300   \n",
       "3992  192.168.1.20             -       -  22/Dec/2016:21:47:11 +0300   \n",
       "3993  192.168.1.20             -       -  22/Dec/2016:21:47:12 +0300   \n",
       "3994  192.168.1.20             -       -  22/Dec/2016:21:47:12 +0300   \n",
       "3995  192.168.1.20             -       -  22/Dec/2016:21:47:12 +0300   \n",
       "\n",
       "         timestamp        date method              endpoint  protocol  \\\n",
       "3991  1.482432e+09  2016-12-22    GET    /DVWA/cIS6Baqc.htm  HTTP/1.1   \n",
       "3992  1.482432e+09  2016-12-22    GET    /DVWA/BR3zjRfE.gif  HTTP/1.1   \n",
       "3993  1.482432e+09  2016-12-22    GET  /DVWA/sQgerkoh.xhtml  HTTP/1.1   \n",
       "3994  1.482432e+09  2016-12-22    GET                /DVWA/  HTTP/1.1   \n",
       "3995  1.482432e+09  2016-12-22    GET                /DVWA/  HTTP/1.1   \n",
       "\n",
       "     referrer user_agent  response_code  content_size  type1  type2  \n",
       "3991        -   w3af.org            404           451      1      1  \n",
       "3992        -   w3af.org            404           451      1      1  \n",
       "3993        -   w3af.org            404           453      1      1  \n",
       "3994        -   w3af.org            302           329      1      0  \n",
       "3995        -   w3af.org            302           329      1      0  "
      ]
     },
     "execution_count": 12,
     "metadata": {},
     "output_type": "execute_result"
    }
   ],
   "source": [
    "w3af.tail()"
   ]
  },
  {
   "cell_type": "code",
   "execution_count": 13,
   "metadata": {},
   "outputs": [],
   "source": [
    "#detecting type 3 logs\n",
    "def type3_detecttion(v):\n",
    "    \"\"\"\n",
    "    args:\n",
    "    v a pandas dataframe\n",
    "    returns 0 if the line doesnot suite the rule\n",
    "    1 if the line suites the rule\n",
    "    \"\"\"\n",
    "    http_methods=[\"Track\", \"Trace\", \"Netsparker\", \"Pri\", \"Propfind\",\"Quit\"]#list of words contained a type3 attack\n",
    "    status_code=404#status code indicating type 3 attack\n",
    "#     obtain data from v data frame for check\n",
    "    method_=v[\"method\"] \n",
    "    code_=v[\"response_code\"]\n",
    "    if method_ in http_methods:\n",
    "        return 1\n",
    "    elif code_ == status_code:\n",
    "        return 1\n",
    "    else:\n",
    "        return 0\n"
   ]
  },
  {
   "cell_type": "code",
   "execution_count": 14,
   "metadata": {},
   "outputs": [],
   "source": [
    "w3af['type3']=w3af.apply(type3_detecttion,axis = 1)#apply type3_detection rule "
   ]
  },
  {
   "cell_type": "code",
   "execution_count": 15,
   "metadata": {},
   "outputs": [
    {
     "data": {
      "text/html": [
       "<div>\n",
       "<style scoped>\n",
       "    .dataframe tbody tr th:only-of-type {\n",
       "        vertical-align: middle;\n",
       "    }\n",
       "\n",
       "    .dataframe tbody tr th {\n",
       "        vertical-align: top;\n",
       "    }\n",
       "\n",
       "    .dataframe thead th {\n",
       "        text-align: right;\n",
       "    }\n",
       "</style>\n",
       "<table border=\"1\" class=\"dataframe\">\n",
       "  <thead>\n",
       "    <tr style=\"text-align: right;\">\n",
       "      <th></th>\n",
       "      <th>host</th>\n",
       "      <th>client_identd</th>\n",
       "      <th>user_id</th>\n",
       "      <th>date_time</th>\n",
       "      <th>timestamp</th>\n",
       "      <th>date</th>\n",
       "      <th>method</th>\n",
       "      <th>endpoint</th>\n",
       "      <th>protocol</th>\n",
       "      <th>referrer</th>\n",
       "      <th>user_agent</th>\n",
       "      <th>response_code</th>\n",
       "      <th>content_size</th>\n",
       "      <th>type1</th>\n",
       "      <th>type2</th>\n",
       "      <th>type3</th>\n",
       "    </tr>\n",
       "  </thead>\n",
       "  <tbody>\n",
       "    <tr>\n",
       "      <th>0</th>\n",
       "      <td>\"192.168.4.163</td>\n",
       "      <td>-</td>\n",
       "      <td>-</td>\n",
       "      <td>22/Dec/2016:22:32:31 +0300</td>\n",
       "      <td>1.482435e+09</td>\n",
       "      <td>2016-12-22</td>\n",
       "      <td>GET</td>\n",
       "      <td>/</td>\n",
       "      <td>HTTP/1.1</td>\n",
       "      <td>-</td>\n",
       "      <td>w3af.org\"</td>\n",
       "      <td>200</td>\n",
       "      <td>3279</td>\n",
       "      <td>1</td>\n",
       "      <td>0</td>\n",
       "      <td>0</td>\n",
       "    </tr>\n",
       "    <tr>\n",
       "      <th>1</th>\n",
       "      <td>\"192.168.4.163</td>\n",
       "      <td>-</td>\n",
       "      <td>-</td>\n",
       "      <td>22/Dec/2016:22:32:31 +0300</td>\n",
       "      <td>1.482435e+09</td>\n",
       "      <td>2016-12-22</td>\n",
       "      <td>GET</td>\n",
       "      <td>/</td>\n",
       "      <td>HTTP/1.1</td>\n",
       "      <td>-</td>\n",
       "      <td>w3af.org\"</td>\n",
       "      <td>200</td>\n",
       "      <td>3279</td>\n",
       "      <td>1</td>\n",
       "      <td>0</td>\n",
       "      <td>0</td>\n",
       "    </tr>\n",
       "    <tr>\n",
       "      <th>2</th>\n",
       "      <td>\"192.168.4.163</td>\n",
       "      <td>-</td>\n",
       "      <td>-</td>\n",
       "      <td>22/Dec/2016:22:32:31 +0300</td>\n",
       "      <td>1.482435e+09</td>\n",
       "      <td>2016-12-22</td>\n",
       "      <td>GET</td>\n",
       "      <td>/</td>\n",
       "      <td>HTTP/1.1</td>\n",
       "      <td>-</td>\n",
       "      <td>w3af.org\"</td>\n",
       "      <td>200</td>\n",
       "      <td>3361</td>\n",
       "      <td>1</td>\n",
       "      <td>0</td>\n",
       "      <td>0</td>\n",
       "    </tr>\n",
       "    <tr>\n",
       "      <th>3</th>\n",
       "      <td>\"192.168.4.163</td>\n",
       "      <td>-</td>\n",
       "      <td>-</td>\n",
       "      <td>22/Dec/2016:22:32:32 +0300</td>\n",
       "      <td>1.482435e+09</td>\n",
       "      <td>2016-12-22</td>\n",
       "      <td>GET</td>\n",
       "      <td>/</td>\n",
       "      <td>HTTP/1.1</td>\n",
       "      <td>-</td>\n",
       "      <td>w3af.org\"</td>\n",
       "      <td>200</td>\n",
       "      <td>3279</td>\n",
       "      <td>1</td>\n",
       "      <td>0</td>\n",
       "      <td>0</td>\n",
       "    </tr>\n",
       "    <tr>\n",
       "      <th>4</th>\n",
       "      <td>\"192.168.4.163</td>\n",
       "      <td>-</td>\n",
       "      <td>-</td>\n",
       "      <td>22/Dec/2016:22:32:32 +0300</td>\n",
       "      <td>1.482435e+09</td>\n",
       "      <td>2016-12-22</td>\n",
       "      <td>GET</td>\n",
       "      <td>/</td>\n",
       "      <td>HTTP/1.1</td>\n",
       "      <td>-</td>\n",
       "      <td>w3af.org\"</td>\n",
       "      <td>200</td>\n",
       "      <td>3279</td>\n",
       "      <td>1</td>\n",
       "      <td>0</td>\n",
       "      <td>0</td>\n",
       "    </tr>\n",
       "  </tbody>\n",
       "</table>\n",
       "</div>"
      ],
      "text/plain": [
       "             host client_identd user_id                   date_time  \\\n",
       "0  \"192.168.4.163             -       -  22/Dec/2016:22:32:31 +0300   \n",
       "1  \"192.168.4.163             -       -  22/Dec/2016:22:32:31 +0300   \n",
       "2  \"192.168.4.163             -       -  22/Dec/2016:22:32:31 +0300   \n",
       "3  \"192.168.4.163             -       -  22/Dec/2016:22:32:32 +0300   \n",
       "4  \"192.168.4.163             -       -  22/Dec/2016:22:32:32 +0300   \n",
       "\n",
       "      timestamp        date method endpoint  protocol referrer user_agent  \\\n",
       "0  1.482435e+09  2016-12-22    GET        /  HTTP/1.1        -  w3af.org\"   \n",
       "1  1.482435e+09  2016-12-22    GET        /  HTTP/1.1        -  w3af.org\"   \n",
       "2  1.482435e+09  2016-12-22    GET        /  HTTP/1.1        -  w3af.org\"   \n",
       "3  1.482435e+09  2016-12-22    GET        /  HTTP/1.1        -  w3af.org\"   \n",
       "4  1.482435e+09  2016-12-22    GET        /  HTTP/1.1        -  w3af.org\"   \n",
       "\n",
       "   response_code  content_size  type1  type2  type3  \n",
       "0            200          3279      1      0      0  \n",
       "1            200          3279      1      0      0  \n",
       "2            200          3361      1      0      0  \n",
       "3            200          3279      1      0      0  \n",
       "4            200          3279      1      0      0  "
      ]
     },
     "execution_count": 15,
     "metadata": {},
     "output_type": "execute_result"
    }
   ],
   "source": [
    "w3af.head()"
   ]
  },
  {
   "cell_type": "code",
   "execution_count": 16,
   "metadata": {},
   "outputs": [
    {
     "data": {
      "text/plain": [
       "Index(['host', 'client_identd', 'user_id', 'date_time', 'timestamp', 'date',\n",
       "       'method', 'endpoint', 'protocol', 'referrer', 'user_agent',\n",
       "       'response_code', 'content_size', 'type1', 'type2', 'type3', 'methods'],\n",
       "      dtype='object')"
      ]
     },
     "execution_count": 16,
     "metadata": {},
     "output_type": "execute_result"
    }
   ],
   "source": [
    "#data preparation \n",
    "#remove un important field\n",
    "#label encoding method column\n",
    "w3af[\"method\"] = w3af[\"method\"].astype('category')\n",
    "w3af[\"methods\"] = w3af[\"method\"].cat.codes\n",
    "w3af.columns"
   ]
  },
  {
   "cell_type": "code",
   "execution_count": 17,
   "metadata": {},
   "outputs": [],
   "source": [
    "# dropping some columns from the dataframe\n",
    "\n",
    "w3af = w3af.drop(['host','client_identd','user_id','date_time','timestamp','date','method','endpoint','protocol','referrer','user_agent'],axis=1)\n",
    "# selecting data for training a model\n",
    "w3af=w3af[['response_code','content_size','methods','type1','type2','type3']] \n"
   ]
  },
  {
   "cell_type": "code",
   "execution_count": 18,
   "metadata": {},
   "outputs": [],
   "source": [
    "X=w3af[['response_code','content_size','methods']]\n",
    "# YxS=w3af[['type1']]\n",
    "# y_type2=w3af[['type1']]\n",
    "# y_type3=w3af['type3']\n",
    "#slicing training data depending on the three classes of type1,type2,type3\n",
    "y_type1 = w3af.iloc[:,3]\n",
    "y_type2 =w3af.iloc[:,4]\n",
    "y_type3=w3af.iloc[:,5]\n",
    "X_tr = w3af.iloc[:,0:3]\n"
   ]
  },
  {
   "cell_type": "code",
   "execution_count": 19,
   "metadata": {},
   "outputs": [],
   "source": [
    "#importing models for creating a svm model classification\n",
    "import sklearn as sk\n",
    "from sklearn import svm\n",
    "from sklearn.svm import SVC"
   ]
  },
  {
   "cell_type": "code",
   "execution_count": 20,
   "metadata": {},
   "outputs": [],
   "source": [
    "#spliting a dataset to obtain training and testing data\n",
    "from sklearn.model_selection import train_test_split\n",
    "X_train, X_test, y_train, y_test = train_test_split(X, y_type2, test_size = 0.20)"
   ]
  },
  {
   "cell_type": "code",
   "execution_count": 21,
   "metadata": {},
   "outputs": [
    {
     "data": {
      "text/plain": [
       "SVC(C=1.0, break_ties=False, cache_size=200, class_weight=None, coef0=0.0,\n",
       "    decision_function_shape='ovr', degree=3, gamma='scale', kernel='linear',\n",
       "    max_iter=-1, probability=False, random_state=None, shrinking=True,\n",
       "    tol=0.001, verbose=False)"
      ]
     },
     "execution_count": 21,
     "metadata": {},
     "output_type": "execute_result"
    }
   ],
   "source": [
    "#creating a svm model object\n",
    "svclassifier = SVC(kernel='linear')\n",
    "svclassifier.fit(X_train, y_train)"
   ]
  },
  {
   "cell_type": "code",
   "execution_count": 24,
   "metadata": {},
   "outputs": [
    {
     "name": "stdout",
     "output_type": "stream",
     "text": [
      "[[606 106]\n",
      " [ 49  39]]\n",
      "              precision    recall  f1-score   support\n",
      "\n",
      "           0       0.93      0.85      0.89       712\n",
      "           1       0.27      0.44      0.33        88\n",
      "\n",
      "    accuracy                           0.81       800\n",
      "   macro avg       0.60      0.65      0.61       800\n",
      "weighted avg       0.85      0.81      0.83       800\n",
      "\n"
     ]
    }
   ],
   "source": [
    "y_pred = svclassifier.predict(X_test)#value of predicted values\n",
    "from sklearn.metrics import classification_report, confusion_matrix\n",
    "#creating a confusion matrix\n",
    "print(confusion_matrix(y_test,y_pred))\n",
    "print(classification_report(y_test,y_pred))"
   ]
  },
  {
   "cell_type": "code",
   "execution_count": null,
   "metadata": {},
   "outputs": [],
   "source": [
    "#type3\n",
    "X_train, X_test, y_train, y_test = train_test_split(X, y_type3, test_size = 0.20)\n",
    "svclassifier = SVC(kernel='linear')\n",
    "svclassifier.fit(X_train, y_train)\n"
   ]
  },
  {
   "cell_type": "code",
   "execution_count": 23,
   "metadata": {},
   "outputs": [
    {
     "ename": "NameError",
     "evalue": "name 'confusion_matrix' is not defined",
     "output_type": "error",
     "traceback": [
      "\u001b[0;31m---------------------------------------------------------------------------\u001b[0m",
      "\u001b[0;31mNameError\u001b[0m                                 Traceback (most recent call last)",
      "\u001b[0;32m<ipython-input-23-b60c00edfc7b>\u001b[0m in \u001b[0;36m<module>\u001b[0;34m\u001b[0m\n\u001b[1;32m      1\u001b[0m \u001b[0my_pred\u001b[0m \u001b[0;34m=\u001b[0m \u001b[0msvclassifier\u001b[0m\u001b[0;34m.\u001b[0m\u001b[0mpredict\u001b[0m\u001b[0;34m(\u001b[0m\u001b[0mX_test\u001b[0m\u001b[0;34m)\u001b[0m\u001b[0;34m\u001b[0m\u001b[0;34m\u001b[0m\u001b[0m\n\u001b[0;32m----> 2\u001b[0;31m \u001b[0mprint\u001b[0m\u001b[0;34m(\u001b[0m\u001b[0mconfusion_matrix\u001b[0m\u001b[0;34m(\u001b[0m\u001b[0my_test\u001b[0m\u001b[0;34m,\u001b[0m\u001b[0my_pred\u001b[0m\u001b[0;34m)\u001b[0m\u001b[0;34m)\u001b[0m\u001b[0;34m\u001b[0m\u001b[0;34m\u001b[0m\u001b[0m\n\u001b[0m\u001b[1;32m      3\u001b[0m \u001b[0mprint\u001b[0m\u001b[0;34m(\u001b[0m\u001b[0mclassification_report\u001b[0m\u001b[0;34m(\u001b[0m\u001b[0my_test\u001b[0m\u001b[0;34m,\u001b[0m\u001b[0my_pred\u001b[0m\u001b[0;34m)\u001b[0m\u001b[0;34m)\u001b[0m\u001b[0;34m\u001b[0m\u001b[0;34m\u001b[0m\u001b[0m\n",
      "\u001b[0;31mNameError\u001b[0m: name 'confusion_matrix' is not defined"
     ]
    }
   ],
   "source": [
    "y_pred = svclassifier.predict(X_test)\n",
    "print(confusion_matrix(y_test,y_pred))\n",
    "print(classification_report(y_test,y_pred))"
   ]
  },
  {
   "cell_type": "code",
   "execution_count": null,
   "metadata": {},
   "outputs": [],
   "source": []
  }
 ],
 "metadata": {
  "kernelspec": {
   "display_name": "Python 3",
   "language": "python",
   "name": "python3"
  },
  "language_info": {
   "codemirror_mode": {
    "name": "ipython",
    "version": 3
   },
   "file_extension": ".py",
   "mimetype": "text/x-python",
   "name": "python",
   "nbconvert_exporter": "python",
   "pygments_lexer": "ipython3",
   "version": "3.6.9"
  }
 },
 "nbformat": 4,
 "nbformat_minor": 2
}
