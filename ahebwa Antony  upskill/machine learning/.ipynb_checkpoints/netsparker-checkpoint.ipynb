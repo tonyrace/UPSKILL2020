{
 "cells": [
  {
   "cell_type": "code",
   "execution_count": 34,
   "metadata": {},
   "outputs": [],
   "source": [
    "# ###import packages to  use through out\n",
    "import pandas as pd\n",
    "import numpy as np\n",
    "from numpy import loadtxt\n",
    "import collections as cl\n",
    "import user_agents as ua\n",
    "from user_agents import parse\n",
    "import ua_parser as ps\n",
    "import re\n",
    "import datetime\n",
    "import csv\n",
    "from io import StringIO\n",
    "from datetime import datetime\n",
    "import matplotlib as plt"
   ]
  },
  {
   "cell_type": "code",
   "execution_count": 35,
   "metadata": {},
   "outputs": [
    {
     "name": "stdout",
     "output_type": "stream",
     "text": [
      "acunetix.txt              netsparker.ipynb  w3af.csv  xss_sqli.ipynb\r\n",
      "\u001b[0m\u001b[01;34mapache-http-logs-master\u001b[0m/  netsparker.txt    w3af.txt\r\n"
     ]
    }
   ],
   "source": [
    "ls\n"
   ]
  },
  {
   "cell_type": "code",
   "execution_count": 36,
   "metadata": {},
   "outputs": [],
   "source": [
    "# formating to obtain date format from the logs\n",
    "month_map = {'Jan': 1, 'Feb': 2, 'Mar':3, 'Apr':4, 'May':5, 'Jun':6, 'Jul':7,\n",
    "    'Aug':8,  'Sep': 9, 'Oct':10, 'Nov': 11, 'Dec': 12}\n",
    "def parse_apache_time(s):\n",
    "    \"\"\"Convert Apache time format into a python datetime object\n",
    "    args:\n",
    "    s(str):date and time in Apache time format\n",
    "    Return:\n",
    "    datetime:datetime object \n",
    "    \"\"\"\n",
    "    return datetime.datetime(int(s[7:11]),month_map[s[3:6]],int(s[0:2]),int(s[12:14]),int(s[15:17]),int(s[18:20]))\n",
    "def parseLogline(logline):\n",
    "    \"\"\"Parse a line the apache common log format\n",
    "    args:\n",
    "    logline is a line to read and formatted to suite the APACHE_ACCESS_LOG_PATTERN\n",
    "    APACHE_ACCESS_LOG_PATTERN is a regrex that extracts and formats data considering apache log formts to obtain fields\n",
    "    forexample userid,protocol,method,user agents,referrers,response code \n",
    "    return\n",
    "    The function will return a list\"\"\"\n",
    "    APACHE_ACCESS_LOG_PATTERN = '^(\\S+) (\\S+) (\\S+) \\[([\\w:/]+\\s[+\\-]\\d{4})\\] \"(\\S+) (\\S+) (\\S+)\" (\\d{3}) (\\d+) \"((?:[^”]|”)+)\" \"((?:[^”]|”)+)\"$'\n",
    "    DATETIME_PARSE_PATTERN = '%d/%b/%Y:%H:%M:%S %z'\n",
    "    match =re.search(APACHE_ACCESS_LOG_PATTERN,logline)\n",
    "    if match is None:\n",
    "        return None\n",
    "    date_obj = datetime.strptime(match.group(4),DATETIME_PARSE_PATTERN)\n",
    "    \n",
    "    return [match.group(1),match.group(2),match.group(3),match.group(4),date_obj.timestamp(),date_obj.strftime('%Y-%m-%d'),match.group(5),match.group(6),match.group(7),match.group(10),match.group(11),int(match.group(8)),int(match.group(9))]\n",
    "    "
   ]
  },
  {
   "cell_type": "code",
   "execution_count": 37,
   "metadata": {},
   "outputs": [],
   "source": [
    "def reader(filename):\n",
    "    \"\"\"\n",
    "    This fuction reads a txt logfile\n",
    "    args:\n",
    "    filename is a txt file name to read\n",
    "    return:\n",
    "    Pandas Dataframe\n",
    "    \"\"\"\n",
    "    list_data=[]\n",
    "    with open(filename ,'r') as f:\n",
    "        for lk in f:\n",
    "            data=parseLogline(lk)\n",
    "            list_data.append(data)\n",
    "        return pd.DataFrame(list_data,columns=('host', 'client_identd', 'user_id','date_time','timestamp','date','method','endpoint','protocol','referrer','user_agent','response_code','content_size'))\n"
   ]
  },
  {
   "cell_type": "code",
   "execution_count": 38,
   "metadata": {},
   "outputs": [],
   "source": [
    "w3af=reader(\"netsparker.txt\"))#function call of a reader function"
   ]
  },
  {
   "cell_type": "code",
   "execution_count": 39,
   "metadata": {},
   "outputs": [
    {
     "data": {
      "text/plain": [
       "1"
      ]
     },
     "execution_count": 39,
     "metadata": {},
     "output_type": "execute_result"
    }
   ],
   "source": [
    "long_string = \"students.washington.edu/squakmix/reflect.php?param=<script>alert('xss!');</script>\"\n",
    "def xss_detector(line):\n",
    "     \"\"\"\n",
    "    args:\n",
    "    line to be checked for cross site scripting attack\n",
    "    return:\n",
    "    The function returns 0 is there is an attack\n",
    "    1 if the line doesnt have an attack threat\n",
    "    \n",
    "    /((\\%3C)|<)((\\%2F)|\\/)*[a-z0-9\\%]+((\\%3E)|>)/ix\n",
    "\n",
    "    Explanation:\n",
    "    ((\\%3C)|<) - check for opening angle bracket or hex equivalent\n",
    "    ((\\%2F)|\\/)* - the forward slash for a closing tag or its hex equivalent\n",
    "    [a-z0-9\\%]+ - check for alphanumeric string inside the tag, or hex representation of these\n",
    "    ((\\%3E)|>) - check for closing angle bracket or hex equivalent\n",
    "    \n",
    "    /((\\%3C)|<)((\\%69)|i|(\\%49))((\\%6D)|m|(\\%4D))((\\%67)|g|(\\%47))[^\\n]+((\\%3E)|>)/I\n",
    "\n",
    "    Explanation:\n",
    "    (\\%3C)|<) opening angled bracket or hex equivalent\n",
    "    (\\%69)|i|(\\%49))((\\%6D)|m|(\\%4D))((\\%67)|g|(\\%47) the letters 'img' in varying combinations of ASCII, or upper or lower case hex equivalents\n",
    "    [^\\n]+ any character other than a new line following the <img\n",
    "    (\\%3E)|>) closing angled bracket or hex equivalent\n",
    "    \n",
    "    /((\\%3C)|<)[^\\n]+((\\%3E)|>)/I\n",
    "\n",
    "Explanation:\n",
    "This signature simply looks for the opening HTML tag, and its hex equivalent, followed by one or more characters other than the newline, and then followed by the closing tag or its hex equivalent. This may end up giving a few false positives depending upon how your Web application and Web server are structured, but it is guaranteed to catch anything that even remotely resembles a cross-site scripting attack.\n",
    "    \"\"\"\n",
    "    regex = re.compile('/((\\%3C)|<)((\\%2F)|\\/)*[a-z0-9\\%]+((\\%3E)|>)/ix ') \n",
    "    regex_test1=re.compile('/((\\%3C)|<)((\\%69)|i|(\\%49))((\\%6D)|m|(\\%4D))((\\%67)|g|(\\%47))[^\\n]+((\\%3E)|>)/I ')\n",
    "    regex_test2=re.compile('/((\\%3C)|<)[^\\n]+((\\%3E)|>)/I ')\n",
    "    # Pass the string in search  \n",
    "    # method of regex object.     \n",
    "    if(regex.search(line) == None): \n",
    "        if(regex_test1.search(line)== None):\n",
    "            if(regex_test2.search(line)==None):\n",
    "                return 1\n",
    "            else:\n",
    "                return 0\n",
    "        else:\n",
    "             return 0\n",
    "          \n",
    "    else: \n",
    "        return 0 \n",
    "xss_detector(long_string)"
   ]
  },
  {
   "cell_type": "code",
   "execution_count": 40,
   "metadata": {},
   "outputs": [
    {
     "data": {
      "text/plain": [
       "1"
      ]
     },
     "execution_count": 40,
     "metadata": {},
     "output_type": "execute_result"
    }
   ],
   "source": [
    "\n",
    "def sql_detector(line):\n",
    "     \"\"\"\n",
    "    args:line to be checked for sqli injection attack\n",
    "    return:\n",
    "    0-if a check is failed\n",
    "    1-if a check is passed\n",
    "    /((\\%3D)|(=))[^\\n]*((\\%27)|(\\')|(\\-\\-)|(\\%3B)|(;))/i  checking for sql meta-characters\n",
    "    \n",
    "    /\\w*((\\%27)|(\\'))((\\%6F)|o|(\\%4F))((\\%72)|r|(\\%52))/ix\n",
    "    Explanation:\n",
    "    \\w* - zero or more alphanumeric or underscore characters\n",
    "    (\\%27)|\\' - the ubiquitous single-quote or its hex equivalent\n",
    "    (\\%6F)|o|(\\%4F))((\\%72)|r|(\\%52) - the word 'or' with various combinations of its upper and lower case hex equivalents\n",
    "    \n",
    "        /((\\%27)|(\\'))union/ix\n",
    "    (\\%27)|(\\') - the single-quote and its hex equivalent\n",
    "    union - the keyword union\n",
    "    \n",
    "    /exec(\\s|\\+)+(s|x)p\\w+/ix\n",
    "    Explanation:\n",
    "    exec - the keyword required to run the stored or extended procedure\n",
    "    (\\s|\\+)+ - one or more whitespaces or their HTTP encoded equivalents\n",
    "    (s|x)p - the letters 'sp' or 'xp' to identify stored or extended procedures respectively\n",
    "    \\w+ - one or more alphanumeric or underscore characters to complete the name of the procedure\n",
    "    \"\"\"\n",
    "    regex_test0=re.compile('/((\\%3D)|(=))[^\\n]*((\\%27)|(\\')|(\\-\\-)|(\\%3B)|(;))/i ')\n",
    "    regex_test1=re.compile('/\\w*((\\%27)|(\\'))((\\%6F)|o|(\\%4F))((\\%72)|r|(\\%52))/ix ')\n",
    "    regex_test2=re.compile('/((\\%27)|(\\'))union/ix')\n",
    "    regex_test3=re.compile('/exec(\\s|\\+)+(s|x)p\\w+/ix ')\n",
    "    if(regex_test0.search(line)==None):\n",
    "        if(regex_test1.search(line)==None):\n",
    "            if(regex_test2.search(line)==None):\n",
    "                if(regex_test3.search(line)==None):\n",
    "                    return 1\n",
    "                else:\n",
    "                    return 0\n",
    "            else:\n",
    "                return 0\n",
    "        else:\n",
    "            return 0\n",
    "    else:\n",
    "        return 0\n",
    "sql_detector(long_string)"
   ]
  },
  {
   "cell_type": "code",
   "execution_count": 41,
   "metadata": {},
   "outputs": [],
   "source": [
    "# function to run both xss and sqli attack\n",
    "def xss_sqli(data):\n",
    "    \"\"\"\n",
    "    arg:data is a dataframe \n",
    "    This function executes functions to detect xss and sql injection \n",
    "    It compares results from both functions and creates a column of type1 attacks in dataframe\n",
    "    \"\"\"\n",
    "    method=data[\"method\"]\n",
    "    endpoint=data[\"endpoint\"]\n",
    "    protocol=data[\"protocol\"]\n",
    "    url=method+endpoint+protocol\n",
    "    xss_result=xss_detector(url)\n",
    "    sqli_result=sql_detector(url)\n",
    "    if xss_result== 1 & sqli_result == 1:\n",
    "        return 1\n",
    "    elif xss_result==1 | sqli_result ==0:\n",
    "        return 1\n",
    "    elif sqli_result ==1 | xss_result ==0:\n",
    "        return 1\n",
    "    else:\n",
    "        return 0\n",
    "    "
   ]
  },
  {
   "cell_type": "code",
   "execution_count": 42,
   "metadata": {},
   "outputs": [],
   "source": [
    "w3af['type1']=w3af.apply(xss_sqli,axis = 1)"
   ]
  },
  {
   "cell_type": "code",
   "execution_count": 43,
   "metadata": {},
   "outputs": [],
   "source": [
    "#checking type 2 useragents\n",
    "#type make arequest for '/robots.txt'\n",
    "#robots have a higher rate of \"4XX\"\n",
    "#Have a higher unassigned referrer(\"-\") rates\n",
    "#may contain keywords like bot,crawler,spider,wanderer and robot\n",
    "def type2_rule(s):\n",
    "    pattern=[\"robot\",\"bot\",\"crawler\",\"spider\",\"wanderer\"]\n",
    "    request=\"/robots.txt\"\n",
    "    refer=s[\"response_code\"]\n",
    "    endpoint=s['endpoint']\n",
    "    user_agent=s['user_agent']\n",
    "    if refer>=400:\n",
    "        return 1\n",
    "    elif request==endpoint:\n",
    "        return 1\n",
    "    elif user_agent in pattern:\n",
    "        return 1\n",
    "    else:\n",
    "        return 0\n",
    "\n",
    "        \n",
    "\n",
    "\n",
    " "
   ]
  },
  {
   "cell_type": "code",
   "execution_count": 44,
   "metadata": {},
   "outputs": [],
   "source": [
    "w3af['type2']=w3af.apply(type2_rule,axis = 1)##apply type2 rule to create a set of type2 results"
   ]
  },
  {
   "cell_type": "code",
   "execution_count": 45,
   "metadata": {},
   "outputs": [
    {
     "data": {
      "text/html": [
       "<div>\n",
       "<style scoped>\n",
       "    .dataframe tbody tr th:only-of-type {\n",
       "        vertical-align: middle;\n",
       "    }\n",
       "\n",
       "    .dataframe tbody tr th {\n",
       "        vertical-align: top;\n",
       "    }\n",
       "\n",
       "    .dataframe thead th {\n",
       "        text-align: right;\n",
       "    }\n",
       "</style>\n",
       "<table border=\"1\" class=\"dataframe\">\n",
       "  <thead>\n",
       "    <tr style=\"text-align: right;\">\n",
       "      <th></th>\n",
       "      <th>host</th>\n",
       "      <th>client_identd</th>\n",
       "      <th>user_id</th>\n",
       "      <th>date_time</th>\n",
       "      <th>timestamp</th>\n",
       "      <th>date</th>\n",
       "      <th>method</th>\n",
       "      <th>endpoint</th>\n",
       "      <th>protocol</th>\n",
       "      <th>referrer</th>\n",
       "      <th>user_agent</th>\n",
       "      <th>response_code</th>\n",
       "      <th>content_size</th>\n",
       "      <th>type1</th>\n",
       "      <th>type2</th>\n",
       "    </tr>\n",
       "  </thead>\n",
       "  <tbody>\n",
       "    <tr>\n",
       "      <th>0</th>\n",
       "      <td>\"192.168.4.164</td>\n",
       "      <td>-</td>\n",
       "      <td>-</td>\n",
       "      <td>22/Dec/2016:15:19:05 +0300</td>\n",
       "      <td>1.482409e+09</td>\n",
       "      <td>2016-12-22</td>\n",
       "      <td>GET</td>\n",
       "      <td>/DVWA/</td>\n",
       "      <td>HTTP/1.1</td>\n",
       "      <td>-</td>\n",
       "      <td>Mozilla/5.0 (Windows NT 6.3; WOW64) AppleWebKi...</td>\n",
       "      <td>200</td>\n",
       "      <td>2020</td>\n",
       "      <td>1</td>\n",
       "      <td>0</td>\n",
       "    </tr>\n",
       "    <tr>\n",
       "      <th>1</th>\n",
       "      <td>\"192.168.4.164</td>\n",
       "      <td>-</td>\n",
       "      <td>-</td>\n",
       "      <td>22/Dec/2016:15:19:06 +0300</td>\n",
       "      <td>1.482409e+09</td>\n",
       "      <td>2016-12-22</td>\n",
       "      <td>HEAD</td>\n",
       "      <td>/DVWA/</td>\n",
       "      <td>HTTP/1.1</td>\n",
       "      <td>-</td>\n",
       "      <td>Mozilla/5.0 (Windows NT 6.3; WOW64) AppleWebKi...</td>\n",
       "      <td>200</td>\n",
       "      <td>263</td>\n",
       "      <td>1</td>\n",
       "      <td>0</td>\n",
       "    </tr>\n",
       "    <tr>\n",
       "      <th>2</th>\n",
       "      <td>\"192.168.4.164</td>\n",
       "      <td>-</td>\n",
       "      <td>-</td>\n",
       "      <td>22/Dec/2016:15:19:06 +0300</td>\n",
       "      <td>1.482409e+09</td>\n",
       "      <td>2016-12-22</td>\n",
       "      <td>HEAD</td>\n",
       "      <td>/DVWA/.git/config</td>\n",
       "      <td>HTTP/1.1</td>\n",
       "      <td>-</td>\n",
       "      <td>Mozilla/5.0 (Windows NT 6.3; WOW64) AppleWebKi...</td>\n",
       "      <td>404</td>\n",
       "      <td>139</td>\n",
       "      <td>1</td>\n",
       "      <td>1</td>\n",
       "    </tr>\n",
       "    <tr>\n",
       "      <th>3</th>\n",
       "      <td>\"192.168.4.164</td>\n",
       "      <td>-</td>\n",
       "      <td>-</td>\n",
       "      <td>22/Dec/2016:15:19:06 +0300</td>\n",
       "      <td>1.482409e+09</td>\n",
       "      <td>2016-12-22</td>\n",
       "      <td>HEAD</td>\n",
       "      <td>/DVWA/.git/config</td>\n",
       "      <td>HTTP/1.1</td>\n",
       "      <td>-</td>\n",
       "      <td>Mozilla/5.0 (Windows NT 6.3; WOW64) AppleWebKi...</td>\n",
       "      <td>404</td>\n",
       "      <td>139</td>\n",
       "      <td>1</td>\n",
       "      <td>1</td>\n",
       "    </tr>\n",
       "    <tr>\n",
       "      <th>4</th>\n",
       "      <td>\"192.168.4.164</td>\n",
       "      <td>-</td>\n",
       "      <td>-</td>\n",
       "      <td>22/Dec/2016:15:19:06 +0300</td>\n",
       "      <td>1.482409e+09</td>\n",
       "      <td>2016-12-22</td>\n",
       "      <td>HEAD</td>\n",
       "      <td>/DVWA/.svn/all-wcprops</td>\n",
       "      <td>HTTP/1.1</td>\n",
       "      <td>-</td>\n",
       "      <td>Mozilla/5.0 (Windows NT 6.3; WOW64) AppleWebKi...</td>\n",
       "      <td>404</td>\n",
       "      <td>139</td>\n",
       "      <td>1</td>\n",
       "      <td>1</td>\n",
       "    </tr>\n",
       "  </tbody>\n",
       "</table>\n",
       "</div>"
      ],
      "text/plain": [
       "             host client_identd user_id                   date_time  \\\n",
       "0  \"192.168.4.164             -       -  22/Dec/2016:15:19:05 +0300   \n",
       "1  \"192.168.4.164             -       -  22/Dec/2016:15:19:06 +0300   \n",
       "2  \"192.168.4.164             -       -  22/Dec/2016:15:19:06 +0300   \n",
       "3  \"192.168.4.164             -       -  22/Dec/2016:15:19:06 +0300   \n",
       "4  \"192.168.4.164             -       -  22/Dec/2016:15:19:06 +0300   \n",
       "\n",
       "      timestamp        date method                endpoint  protocol referrer  \\\n",
       "0  1.482409e+09  2016-12-22    GET                  /DVWA/  HTTP/1.1        -   \n",
       "1  1.482409e+09  2016-12-22   HEAD                  /DVWA/  HTTP/1.1        -   \n",
       "2  1.482409e+09  2016-12-22   HEAD       /DVWA/.git/config  HTTP/1.1        -   \n",
       "3  1.482409e+09  2016-12-22   HEAD       /DVWA/.git/config  HTTP/1.1        -   \n",
       "4  1.482409e+09  2016-12-22   HEAD  /DVWA/.svn/all-wcprops  HTTP/1.1        -   \n",
       "\n",
       "                                          user_agent  response_code  \\\n",
       "0  Mozilla/5.0 (Windows NT 6.3; WOW64) AppleWebKi...            200   \n",
       "1  Mozilla/5.0 (Windows NT 6.3; WOW64) AppleWebKi...            200   \n",
       "2  Mozilla/5.0 (Windows NT 6.3; WOW64) AppleWebKi...            404   \n",
       "3  Mozilla/5.0 (Windows NT 6.3; WOW64) AppleWebKi...            404   \n",
       "4  Mozilla/5.0 (Windows NT 6.3; WOW64) AppleWebKi...            404   \n",
       "\n",
       "   content_size  type1  type2  \n",
       "0          2020      1      0  \n",
       "1           263      1      0  \n",
       "2           139      1      1  \n",
       "3           139      1      1  \n",
       "4           139      1      1  "
      ]
     },
     "execution_count": 45,
     "metadata": {},
     "output_type": "execute_result"
    }
   ],
   "source": [
    "w3af.head()"
   ]
  },
  {
   "cell_type": "code",
   "execution_count": 46,
   "metadata": {},
   "outputs": [],
   "source": [
    "#detecting type 3 logs\n",
    "def type3_detecttion(v):\n",
    "     \"\"\"\n",
    "    args:\n",
    "    v a pandas dataframe\n",
    "    returns 0 if the line doesnot suite the rule\n",
    "    1 if the line suites the rule\n",
    "    \"\"\"\n",
    "    http_methods=[\"Track\", \"Trace\", \"Netsparker\", \"Pri\", \"Propfind\",\"Quit\"]#list of words contained a type3 attack\n",
    "    status_code=404#status code indicating type 3 attack\n",
    "       #obtain data from v data frame for check\n",
    "    method_=v[\"method\"]\n",
    "    code_=v[\"response_code\"]\n",
    "    if method_ in http_methods:\n",
    "        return 1\n",
    "    elif code_ == status_code:\n",
    "        return 1\n",
    "    else:\n",
    "        return 0\n"
   ]
  },
  {
   "cell_type": "code",
   "execution_count": 47,
   "metadata": {},
   "outputs": [],
   "source": [
    "w3af['type3']=w3af.apply(type3_detecttion,axis = 1)#apply type3_detection rule "
   ]
  },
  {
   "cell_type": "code",
   "execution_count": 48,
   "metadata": {},
   "outputs": [
    {
     "data": {
      "text/html": [
       "<div>\n",
       "<style scoped>\n",
       "    .dataframe tbody tr th:only-of-type {\n",
       "        vertical-align: middle;\n",
       "    }\n",
       "\n",
       "    .dataframe tbody tr th {\n",
       "        vertical-align: top;\n",
       "    }\n",
       "\n",
       "    .dataframe thead th {\n",
       "        text-align: right;\n",
       "    }\n",
       "</style>\n",
       "<table border=\"1\" class=\"dataframe\">\n",
       "  <thead>\n",
       "    <tr style=\"text-align: right;\">\n",
       "      <th></th>\n",
       "      <th>host</th>\n",
       "      <th>client_identd</th>\n",
       "      <th>user_id</th>\n",
       "      <th>date_time</th>\n",
       "      <th>timestamp</th>\n",
       "      <th>date</th>\n",
       "      <th>method</th>\n",
       "      <th>endpoint</th>\n",
       "      <th>protocol</th>\n",
       "      <th>referrer</th>\n",
       "      <th>user_agent</th>\n",
       "      <th>response_code</th>\n",
       "      <th>content_size</th>\n",
       "      <th>type1</th>\n",
       "      <th>type2</th>\n",
       "      <th>type3</th>\n",
       "    </tr>\n",
       "  </thead>\n",
       "  <tbody>\n",
       "    <tr>\n",
       "      <th>0</th>\n",
       "      <td>\"192.168.4.164</td>\n",
       "      <td>-</td>\n",
       "      <td>-</td>\n",
       "      <td>22/Dec/2016:15:19:05 +0300</td>\n",
       "      <td>1.482409e+09</td>\n",
       "      <td>2016-12-22</td>\n",
       "      <td>GET</td>\n",
       "      <td>/DVWA/</td>\n",
       "      <td>HTTP/1.1</td>\n",
       "      <td>-</td>\n",
       "      <td>Mozilla/5.0 (Windows NT 6.3; WOW64) AppleWebKi...</td>\n",
       "      <td>200</td>\n",
       "      <td>2020</td>\n",
       "      <td>1</td>\n",
       "      <td>0</td>\n",
       "      <td>0</td>\n",
       "    </tr>\n",
       "    <tr>\n",
       "      <th>1</th>\n",
       "      <td>\"192.168.4.164</td>\n",
       "      <td>-</td>\n",
       "      <td>-</td>\n",
       "      <td>22/Dec/2016:15:19:06 +0300</td>\n",
       "      <td>1.482409e+09</td>\n",
       "      <td>2016-12-22</td>\n",
       "      <td>HEAD</td>\n",
       "      <td>/DVWA/</td>\n",
       "      <td>HTTP/1.1</td>\n",
       "      <td>-</td>\n",
       "      <td>Mozilla/5.0 (Windows NT 6.3; WOW64) AppleWebKi...</td>\n",
       "      <td>200</td>\n",
       "      <td>263</td>\n",
       "      <td>1</td>\n",
       "      <td>0</td>\n",
       "      <td>0</td>\n",
       "    </tr>\n",
       "    <tr>\n",
       "      <th>2</th>\n",
       "      <td>\"192.168.4.164</td>\n",
       "      <td>-</td>\n",
       "      <td>-</td>\n",
       "      <td>22/Dec/2016:15:19:06 +0300</td>\n",
       "      <td>1.482409e+09</td>\n",
       "      <td>2016-12-22</td>\n",
       "      <td>HEAD</td>\n",
       "      <td>/DVWA/.git/config</td>\n",
       "      <td>HTTP/1.1</td>\n",
       "      <td>-</td>\n",
       "      <td>Mozilla/5.0 (Windows NT 6.3; WOW64) AppleWebKi...</td>\n",
       "      <td>404</td>\n",
       "      <td>139</td>\n",
       "      <td>1</td>\n",
       "      <td>1</td>\n",
       "      <td>1</td>\n",
       "    </tr>\n",
       "    <tr>\n",
       "      <th>3</th>\n",
       "      <td>\"192.168.4.164</td>\n",
       "      <td>-</td>\n",
       "      <td>-</td>\n",
       "      <td>22/Dec/2016:15:19:06 +0300</td>\n",
       "      <td>1.482409e+09</td>\n",
       "      <td>2016-12-22</td>\n",
       "      <td>HEAD</td>\n",
       "      <td>/DVWA/.git/config</td>\n",
       "      <td>HTTP/1.1</td>\n",
       "      <td>-</td>\n",
       "      <td>Mozilla/5.0 (Windows NT 6.3; WOW64) AppleWebKi...</td>\n",
       "      <td>404</td>\n",
       "      <td>139</td>\n",
       "      <td>1</td>\n",
       "      <td>1</td>\n",
       "      <td>1</td>\n",
       "    </tr>\n",
       "    <tr>\n",
       "      <th>4</th>\n",
       "      <td>\"192.168.4.164</td>\n",
       "      <td>-</td>\n",
       "      <td>-</td>\n",
       "      <td>22/Dec/2016:15:19:06 +0300</td>\n",
       "      <td>1.482409e+09</td>\n",
       "      <td>2016-12-22</td>\n",
       "      <td>HEAD</td>\n",
       "      <td>/DVWA/.svn/all-wcprops</td>\n",
       "      <td>HTTP/1.1</td>\n",
       "      <td>-</td>\n",
       "      <td>Mozilla/5.0 (Windows NT 6.3; WOW64) AppleWebKi...</td>\n",
       "      <td>404</td>\n",
       "      <td>139</td>\n",
       "      <td>1</td>\n",
       "      <td>1</td>\n",
       "      <td>1</td>\n",
       "    </tr>\n",
       "  </tbody>\n",
       "</table>\n",
       "</div>"
      ],
      "text/plain": [
       "             host client_identd user_id                   date_time  \\\n",
       "0  \"192.168.4.164             -       -  22/Dec/2016:15:19:05 +0300   \n",
       "1  \"192.168.4.164             -       -  22/Dec/2016:15:19:06 +0300   \n",
       "2  \"192.168.4.164             -       -  22/Dec/2016:15:19:06 +0300   \n",
       "3  \"192.168.4.164             -       -  22/Dec/2016:15:19:06 +0300   \n",
       "4  \"192.168.4.164             -       -  22/Dec/2016:15:19:06 +0300   \n",
       "\n",
       "      timestamp        date method                endpoint  protocol referrer  \\\n",
       "0  1.482409e+09  2016-12-22    GET                  /DVWA/  HTTP/1.1        -   \n",
       "1  1.482409e+09  2016-12-22   HEAD                  /DVWA/  HTTP/1.1        -   \n",
       "2  1.482409e+09  2016-12-22   HEAD       /DVWA/.git/config  HTTP/1.1        -   \n",
       "3  1.482409e+09  2016-12-22   HEAD       /DVWA/.git/config  HTTP/1.1        -   \n",
       "4  1.482409e+09  2016-12-22   HEAD  /DVWA/.svn/all-wcprops  HTTP/1.1        -   \n",
       "\n",
       "                                          user_agent  response_code  \\\n",
       "0  Mozilla/5.0 (Windows NT 6.3; WOW64) AppleWebKi...            200   \n",
       "1  Mozilla/5.0 (Windows NT 6.3; WOW64) AppleWebKi...            200   \n",
       "2  Mozilla/5.0 (Windows NT 6.3; WOW64) AppleWebKi...            404   \n",
       "3  Mozilla/5.0 (Windows NT 6.3; WOW64) AppleWebKi...            404   \n",
       "4  Mozilla/5.0 (Windows NT 6.3; WOW64) AppleWebKi...            404   \n",
       "\n",
       "   content_size  type1  type2  type3  \n",
       "0          2020      1      0      0  \n",
       "1           263      1      0      0  \n",
       "2           139      1      1      1  \n",
       "3           139      1      1      1  \n",
       "4           139      1      1      1  "
      ]
     },
     "execution_count": 48,
     "metadata": {},
     "output_type": "execute_result"
    }
   ],
   "source": [
    "w3af.head()"
   ]
  },
  {
   "cell_type": "code",
   "execution_count": 49,
   "metadata": {},
   "outputs": [
    {
     "data": {
      "text/plain": [
       "Index(['host', 'client_identd', 'user_id', 'date_time', 'timestamp', 'date',\n",
       "       'method', 'endpoint', 'protocol', 'referrer', 'user_agent',\n",
       "       'response_code', 'content_size', 'type1', 'type2', 'type3', 'methods'],\n",
       "      dtype='object')"
      ]
     },
     "execution_count": 49,
     "metadata": {},
     "output_type": "execute_result"
    }
   ],
   "source": [
    "#data preparation \n",
    "#remove un important field\n",
    "#label encoding method column\n",
    "w3af[\"method\"] = w3af[\"method\"].astype('category')\n",
    "w3af[\"methods\"] = w3af[\"method\"].cat.codes\n",
    "w3af.columns"
   ]
  },
  {
   "cell_type": "code",
   "execution_count": 50,
   "metadata": {},
   "outputs": [],
   "source": [
    "# dropping some columns from the dataframe\n",
    "w3af = w3af.drop(['host','client_identd','user_id','date_time','timestamp','date','method','endpoint','protocol','referrer','user_agent'],axis=1)\n",
    "# selecting data for training a model\n",
    "w3af=w3af[['response_code','content_size','methods','type1','type2','type3']] \n"
   ]
  },
  {
   "cell_type": "code",
   "execution_count": 51,
   "metadata": {},
   "outputs": [],
   "source": [
    "X=w3af[['response_code','content_size','methods']]\n",
    "# YxS=w3af[['type1']]\n",
    "# y_type2=w3af[['type1']]\n",
    "# y_type3=w3af['type3']\n",
    "#slicing training data depending on the three classes of type1,type2,type3\n",
    "y_type1 = w3af.iloc[:,3]\n",
    "y_type2 =w3af.iloc[:,4]\n",
    "y_type3=w3af.iloc[:,5]\n",
    "X_tr = w3af.iloc[:,0:3]\n"
   ]
  },
  {
   "cell_type": "code",
   "execution_count": 52,
   "metadata": {},
   "outputs": [],
   "source": [
    "#importing models for creating a svm model classification\n",
    "import sklearn as sk\n",
    "from sklearn import svm\n",
    "from sklearn.svm import SVC"
   ]
  },
  {
   "cell_type": "code",
   "execution_count": 53,
   "metadata": {},
   "outputs": [],
   "source": [
    "#spliting a dataset to obtain training and testing data\n",
    "from sklearn.model_selection import train_test_split\n",
    "X_train, X_test, y_train, y_test = train_test_split(X, y_type2, test_size = 0.20)"
   ]
  },
  {
   "cell_type": "code",
   "execution_count": 54,
   "metadata": {},
   "outputs": [
    {
     "data": {
      "text/plain": [
       "SVC(C=1.0, break_ties=False, cache_size=200, class_weight=None, coef0=0.0,\n",
       "    decision_function_shape='ovr', degree=3, gamma='scale', kernel='linear',\n",
       "    max_iter=-1, probability=False, random_state=None, shrinking=True,\n",
       "    tol=0.001, verbose=False)"
      ]
     },
     "execution_count": 54,
     "metadata": {},
     "output_type": "execute_result"
    }
   ],
   "source": [
    "#creating a svm model object\n",
    "svclassifier = SVC(kernel='linear')\n",
    "svclassifier.fit(X_train, y_train)"
   ]
  },
  {
   "cell_type": "code",
   "execution_count": 72,
   "metadata": {},
   "outputs": [
    {
     "name": "stdout",
     "output_type": "stream",
     "text": [
      "              precision    recall  f1-score   support\n",
      "\n",
      "           0       1.00      1.00      1.00       932\n",
      "           1       1.00      1.00      1.00       531\n",
      "\n",
      "    accuracy                           1.00      1463\n",
      "   macro avg       1.00      1.00      1.00      1463\n",
      "weighted avg       1.00      1.00      1.00      1463\n",
      "\n"
     ]
    }
   ],
   "source": [
    "y_pred = svclassifier.predict(X_test)\n",
    "from sklearn.metrics import classification_report, confusion_matrix,plot_confusion_matrix, accuracy_score,precision_recall_curve\n",
    "import matplotlib.pyplot as plt \n",
    "#creating a confusion matrix\n",
    "# print(confusion_matrix(y_test,y_pred))\n",
    "print(classification_report(y_test,y_pred))"
   ]
  },
  {
   "cell_type": "code",
   "execution_count": 73,
   "metadata": {},
   "outputs": [
    {
     "data": {
      "image/png": "[encoded data removed]",
      "text/plain": [
       "<Figure size 432x288 with 2 Axes>"
      ]
     },
     "metadata": {
      "needs_background": "light"
     },
     "output_type": "display_data"
    }
   ],
   "source": [
    "plot_confusion_matrix(svclassifier, X_test, y_test)  # doctest: +SKIP\n",
    "plt.show() "
   ]
  },
  {
   "cell_type": "code",
   "execution_count": 79,
   "metadata": {},
   "outputs": [
    {
     "data": {
      "image/png": "[encoded data removed]",
      "text/plain": [
       "<Figure size 432x288 with 1 Axes>"
      ]
     },
     "metadata": {
      "needs_background": "light"
     },
     "output_type": "display_data"
    }
   ],
   "source": [
    "#accuracy and loss plots\n",
    "# Generate scatter plot for training data \n",
    "# precision recall curve\n",
    "precision = dict()\n",
    "recall = dict()\n",
    "for i in range(len(set(y_type2))):\n",
    "    precision[i], recall[i], _ = precision_recall_curve(y_test,y_pred)\n",
    "    plt.plot(recall[i], precision[i], lw=2, label='class {}'.format(i))\n",
    "\n",
    "plt.xlabel(\"recall\")\n",
    "plt.ylabel(\"precision\")\n",
    "plt.legend(loc=\"best\")\n",
    "plt.title(\"precision vs. recall curve\")\n",
    "plt.show()"
   ]
  },
  {
   "cell_type": "code",
   "execution_count": 81,
   "metadata": {},
   "outputs": [
    {
     "data": {
      "image/png": "[encoded data removed]",
      "text/plain": [
       "<Figure size 432x288 with 1 Axes>"
      ]
     },
     "metadata": {
      "needs_background": "light"
     },
     "output_type": "display_data"
    }
   ],
   "source": [
    "# roc curve\n",
    "fpr = dict()\n",
    "tpr = dict()\n",
    "\n",
    "for i in range(len(set(y_type2))):\n",
    "    fpr[i], tpr[i], _ = roc_curve(y_test,y_pred)\n",
    "    plt.plot(fpr[i], tpr[i], lw=2, label='class {}'.format(i))\n",
    "\n",
    "plt.xlabel(\"false positive rate\")\n",
    "plt.ylabel(\"true positive rate\")\n",
    "plt.legend(loc=\"best\")\n",
    "plt.title(\"ROC curve\")\n",
    "plt.show()"
   ]
  },
  {
   "cell_type": "code",
   "execution_count": 77,
   "metadata": {},
   "outputs": [
    {
     "data": {
      "text/plain": [
       "SVC(C=1.0, break_ties=False, cache_size=200, class_weight=None, coef0=0.0,\n",
       "    decision_function_shape='ovr', degree=3, gamma='scale', kernel='linear',\n",
       "    max_iter=-1, probability=False, random_state=None, shrinking=True,\n",
       "    tol=0.001, verbose=False)"
      ]
     },
     "execution_count": 77,
     "metadata": {},
     "output_type": "execute_result"
    }
   ],
   "source": [
    "#type3\n",
    "X_train, X_test, y_train, y_test = train_test_split(X, y_type3, test_size = 0.20)\n",
    "svclassifier = SVC(kernel='linear')\n",
    "svclassifier.fit(X_train, y_train)\n"
   ]
  },
  {
   "cell_type": "code",
   "execution_count": null,
   "metadata": {},
   "outputs": [],
   "source": [
    "y_pred = svclassifier.predict(X_test)\n",
    "print(confusion_matrix(y_test,y_pred))\n",
    "print(classification_report(y_test,y_pred))"
   ]
  }
 ],
 "metadata": {
  "kernelspec": {
   "display_name": "Python 3",
   "language": "python",
   "name": "python3"
  },
  "language_info": {
   "codemirror_mode": {
    "name": "ipython",
    "version": 3
   },
   "file_extension": ".py",
   "mimetype": "text/x-python",
   "name": "python",
   "nbconvert_exporter": "python",
   "pygments_lexer": "ipython3",
   "version": "3.6.9"
  }
 },
 "nbformat": 4,
 "nbformat_minor": 2
}
