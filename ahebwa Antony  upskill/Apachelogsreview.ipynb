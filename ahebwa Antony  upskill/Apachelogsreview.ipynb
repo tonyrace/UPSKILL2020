{
 "cells": [
  {
   "cell_type": "markdown",
   "metadata": {},
   "source": [
    "# LOG FILES\n",
    "\n",
    "In order to effectively manage a web server, it is necessary to get feedback about the activity and performance of the server \n",
    "as well as any problems that may be occuring.The Apache HTTP Server provides very comprehensive and flexible logging capabilities. \n",
    "This document describes how to configure its logging capabilities, and how to understand what the logs contain."
   ]
  },
  {
   "cell_type": "markdown",
   "metadata": {},
   "source": [
    "# error logs"
   ]
  },
  {
   "cell_type": "markdown",
   "metadata": {},
   "source": [
    "#The server error log, whose name and location is set by the ErrorLog directive, \n",
    "#is the most important log file. This is the place where Apache httpd will send diagnostic information and record\n",
    "#any errors that it encounters in processing requests.\n",
    "#It is the first place to look when a problem occurs with starting the server or with the operation of the server,\n",
    "#since it will often contain details of what went wrong and how to fix it.\n",
    "\n",
    "# format of the error log\n",
    "\n",
    "[Wed Oct 11 14:32:52 2000] [error] [client 127.0.0.1] client denied by server configuration: /export/home/live/ap/htdocs/test\n",
    "\n",
    "#The first item in the log entry is the date and time of the message. \n",
    "#The second entry lists the severity of the error being reported. \n",
    "#The LogLevel directive is used to control the types of errors that are sent to the error log by restricting the severity level \n",
    "#The third entry gives the IP address of the client that generated the error. \n",
    "#Beyond that is the message itself, which in this case indicates that the server has been configured to deny the client access\n",
    "#The server reports the file-system path (as opposed to the web path) of the requested document."
   ]
  },
  {
   "cell_type": "markdown",
   "metadata": {},
   "source": [
    "# ACCESS LOGS"
   ]
  },
  {
   "cell_type": "markdown",
   "metadata": {},
   "source": [
    "#The server access log records all requests processed by the server.\n",
    "\n",
    "# common log format\n",
    "A typical configuration for the access log might look as follows.\n",
    "\n",
    "LogFormat \"%h %l %u %t \\\"%r\\\" %>s %b\" common\n",
    "CustomLog logs/access_log common\n",
    "\n",
    "The format string consists of percent directives, each of which tell the server to log a particular piece of information. Literal characters may also be placed in the format string and will be copied directly into the log output. The quote character (\") must be escaped by placing a back-slash before it to prevent it from being interpreted as the end of the format string. The format string may also contain the special control characters \"\\n\" for new-line and \"\\t\" for tab."
   ]
  },
  {
   "cell_type": "markdown",
   "metadata": {},
   "source": [
    "# The log file entries produced in CLF will look something like this:\n",
    "\n",
    "127.0.0.1 - frank [10/Oct/2000:13:55:36 -0700] \"GET /apache_pb.gif HTTP/1.0\" 200 2326"
   ]
  },
  {
   "cell_type": "markdown",
   "metadata": {},
   "source": [
    "# each part of the log entry is described below"
   ]
  },
  {
   "cell_type": "code",
   "execution_count": 8,
   "metadata": {},
   "outputs": [],
   "source": [
    "#1.   127.0.0.1 (%h)\n",
    "\n",
    "#This is the IP address of the client (remote host) which made the request to the server.\n",
    "#If HostnameLookups is set to On, then the server will try to determine the hostname and log it in place of the IP address.\n",
    "#However, this configuration is not recommended since it can significantly slow the server.\n",
    "#Instead, it is best to use a log post-processor such as logresolve to determine the hostnames. \n",
    "#The IP address reported here is not necessarily the address of the machine at which the user is sitting. \n",
    "#If a proxy server exists between the user and the server, this address will be the address of the proxy,\n",
    "#rather than the originating machine.\"\"\""
   ]
  },
  {
   "cell_type": "code",
   "execution_count": 9,
   "metadata": {},
   "outputs": [],
   "source": [
    "#2.   (%l)\n",
    "#The \"hyphen\" in the output indicates that the requested piece of information is not available. \n",
    "#In this case, the information that is not available is the RFC 1413 identity of the client determined by identd on the clients machine.\n",
    "#This information is highly unreliable and should almost never be used except on tightly controlled internal networks. \n",
    "#Apache httpd will not even attempt to determine this information unless IdentityCheck is set to On."
   ]
  },
  {
   "cell_type": "code",
   "execution_count": 11,
   "metadata": {},
   "outputs": [],
   "source": [
    "#3. frank (%u)\n",
    "#This is the userid of the person requesting the document as determined by HTTP authentication. The same value is typically provided to CGI scripts in the REMOTE_USER environment variable. If the status code for the request (see below) is 401, then this value should not be trusted because the user is not yet authenticated. If the document is not password protected, this entry will be \"-\" just like the previous one.\n",
    "\n",
    "#4.  [10/Oct/2000:13:55:36 -0700] (%t)\n",
    "#The time that the server finished processing the request. The format is:\n",
    "#[day/month/year:hour:minute:second zone]\n",
    "#day = 2*digit\n",
    "#month = 3*letter\n",
    "#year = 4*digit\n",
    "#hour = 2*digit\n",
    "#minute = 2*digit\n",
    "#second = 2*digit\n",
    "#zone = (`+' | `-') 4*digit\n",
    "#It is possible to have the time displayed in another format by specifying %{format}t in the log format string, where format is as in strftime(3) from the C standard library.\n",
    "\n",
    "#5.  \"GET /apache_pb.gif HTTP/1.0\" (\\\"%r\\\")\n",
    "#The request line from the client is given in double quotes. The request line contains a great deal of useful information. First, the method used by the client is GET. Second, the client requested the resource /apache_pb.gif, and third, the client used the protocol HTTP/1.0. It is also possible to log one or more parts of the request line independently. For example, the format string \"%m %U%q %H\" will log the method, path, query-string, and protocol, resulting in exactly the same output as \"%r\".\n",
    "\n",
    "\n",
    "#6.  200 (%>s)\n",
    "#This is the status code that the server sends back to the client. This information is very valuable, because it reveals whether the request resulted in a successful response (codes beginning in 2), a redirection (codes beginning in 3), an error caused by the client (codes beginning in 4), or an error in the server (codes beginning in 5). The full list of possible status codes can be found in the HTTP specification (RFC2616 section 10).\n",
    "\n",
    "#7.  2326 (%b)\n",
    "#The last entry indicates the size of the object returned to the client, not including the response headers. If no content was returned to the client, this value will be \"-\". To log \"0\" for no content, use %B instead."
   ]
  },
  {
   "cell_type": "markdown",
   "metadata": {},
   "source": [
    "# combined log format"
   ]
  },
  {
   "cell_type": "code",
   "execution_count": null,
   "metadata": {},
   "outputs": [],
   "source": [
    "Another commonly used format string is called the Combined Log Format. It can be used as follows.\n",
    "\n",
    "LogFormat \"%h %l %u %t \\\"%r\\\" %>s %b \\\"%{Referer}i\\\" \\\"%{User-agent}i\\\"\" combined\n",
    "CustomLog log/acces_log combined\n",
    "This format is exactly the same as the Common Log Format, with the addition of two more fields. Each of the additional fields uses the percent-directive %{header}i, where header can be any HTTP request header. The access log under this format will look like:\n",
    "\n",
    "127.0.0.1 - frank [10/Oct/2000:13:55:36 -0700] \"GET /apache_pb.gif HTTP/1.0\" 200 2326 \"http://www.example.com/start.html\" \"Mozilla/4.08 [en] (Win98; I ;Nav)\"\n",
    "The additional fields are:\n",
    "\n",
    "\"http://www.example.com/start.html\" (\\\"%{Referer}i\\\")\n",
    "The \"Referer\" (sic) HTTP request header. This gives the site that the client reports having been referred from. (This should be the page that links to or includes /apache_pb.gif).\n",
    "\"Mozilla/4.08 [en] (Win98; I ;Nav)\" (\\\"%{User-agent}i\\\")\n",
    "The User-Agent HTTP request header. This is the identifying information that the client browser reports about itself."
   ]
  },
  {
   "cell_type": "code",
   "execution_count": 4,
   "metadata": {},
   "outputs": [],
   "source": [
    "# To search a string to see if it starts with \"The\" and ends with \"spain\"\n",
    "import re \n",
    "txt = \"The rain in spain\"\n",
    "x= re.search(\"^The.*spain$\",txt)"
   ]
  },
  {
   "cell_type": "code",
   "execution_count": 5,
   "metadata": {},
   "outputs": [
    {
     "data": {
      "text/plain": [
       "<re.Match object; span=(0, 17), match='The rain in spain'>"
      ]
     },
     "execution_count": 5,
     "metadata": {},
     "output_type": "execute_result"
    }
   ],
   "source": [
    "x"
   ]
  },
  {
   "cell_type": "code",
   "execution_count": 6,
   "metadata": {},
   "outputs": [
    {
     "data": {
      "text/plain": [
       "['ai', 'ai']"
      ]
     },
     "execution_count": 6,
     "metadata": {},
     "output_type": "execute_result"
    }
   ],
   "source": [
    "m = re.findall(\"ai\",txt) # returns alist containing all matches\n",
    "m"
   ]
  },
  {
   "cell_type": "code",
   "execution_count": 7,
   "metadata": {},
   "outputs": [],
   "source": [
    "g = re.findall(\"portugal\",txt) # ireturn an empty list if no match was found"
   ]
  },
  {
   "cell_type": "code",
   "execution_count": 8,
   "metadata": {},
   "outputs": [
    {
     "data": {
      "text/plain": [
       "[]"
      ]
     },
     "execution_count": 8,
     "metadata": {},
     "output_type": "execute_result"
    }
   ],
   "source": [
    "g"
   ]
  },
  {
   "cell_type": "code",
   "execution_count": 10,
   "metadata": {},
   "outputs": [],
   "source": [
    "k= re.search(\"\\s\",txt)"
   ]
  },
  {
   "cell_type": "code",
   "execution_count": 15,
   "metadata": {},
   "outputs": [
    {
     "name": "stdout",
     "output_type": "stream",
     "text": [
      "The first white-space character is located in position: 3\n"
     ]
    }
   ],
   "source": [
    "print(\"The first white-space character is located in position:\", k.start())"
   ]
  },
  {
   "cell_type": "code",
   "execution_count": 16,
   "metadata": {},
   "outputs": [
    {
     "data": {
      "text/plain": [
       "<re.Match object; span=(3, 4), match=' '>"
      ]
     },
     "execution_count": 16,
     "metadata": {},
     "output_type": "execute_result"
    }
   ],
   "source": [
    "k"
   ]
  },
  {
   "cell_type": "code",
   "execution_count": 17,
   "metadata": {},
   "outputs": [],
   "source": [
    "q=re.search(\"\\S\",txt)"
   ]
  },
  {
   "cell_type": "code",
   "execution_count": 18,
   "metadata": {},
   "outputs": [
    {
     "data": {
      "text/plain": [
       "<re.Match object; span=(0, 1), match='T'>"
      ]
     },
     "execution_count": 18,
     "metadata": {},
     "output_type": "execute_result"
    }
   ],
   "source": [
    "q"
   ]
  },
  {
   "cell_type": "code",
   "execution_count": 19,
   "metadata": {},
   "outputs": [],
   "source": [
    "v= re.split(\"\\s\",txt)"
   ]
  },
  {
   "cell_type": "code",
   "execution_count": 20,
   "metadata": {},
   "outputs": [
    {
     "data": {
      "text/plain": [
       "['The', 'rain', 'in', 'spain']"
      ]
     },
     "execution_count": 20,
     "metadata": {},
     "output_type": "execute_result"
    }
   ],
   "source": [
    "v"
   ]
  },
  {
   "cell_type": "code",
   "execution_count": 40,
   "metadata": {},
   "outputs": [],
   "source": [
    "vv=re.split(\"\\s\",txt,1) # splits the text at position 1"
   ]
  },
  {
   "cell_type": "code",
   "execution_count": 41,
   "metadata": {},
   "outputs": [
    {
     "data": {
      "text/plain": [
       "['The', 'rain in spain']"
      ]
     },
     "execution_count": 41,
     "metadata": {},
     "output_type": "execute_result"
    }
   ],
   "source": [
    "vv"
   ]
  },
  {
   "cell_type": "code",
   "execution_count": 48,
   "metadata": {},
   "outputs": [],
   "source": [
    "qq= re.sub(\"\\s\",\"_\",txt,3)# replaces _ with the white space"
   ]
  },
  {
   "cell_type": "code",
   "execution_count": 49,
   "metadata": {},
   "outputs": [
    {
     "data": {
      "text/plain": [
       "'The_rain_in_spain'"
      ]
     },
     "execution_count": 49,
     "metadata": {},
     "output_type": "execute_result"
    }
   ],
   "source": [
    "qq"
   ]
  },
  {
   "cell_type": "code",
   "execution_count": 54,
   "metadata": {},
   "outputs": [],
   "source": [
    "import re\n",
    "txt = \"The rain in Spain\"\n",
    "pp= re.search(r\"\\bS\\w+\", txt)"
   ]
  },
  {
   "cell_type": "code",
   "execution_count": 56,
   "metadata": {},
   "outputs": [
    {
     "data": {
      "text/plain": [
       "'The rain in Spain'"
      ]
     },
     "execution_count": 56,
     "metadata": {},
     "output_type": "execute_result"
    }
   ],
   "source": [
    "pp.string"
   ]
  },
  {
   "cell_type": "code",
   "execution_count": 57,
   "metadata": {},
   "outputs": [
    {
     "data": {
      "text/plain": [
       "(12, 17)"
      ]
     },
     "execution_count": 57,
     "metadata": {},
     "output_type": "execute_result"
    }
   ],
   "source": [
    "txt = \"The rain in Spain\"\n",
    "ff= re.search(r\"\\bS\\w+\", txt)\n",
    "ff.span()\n"
   ]
  },
  {
   "cell_type": "code",
   "execution_count": 58,
   "metadata": {},
   "outputs": [
    {
     "data": {
      "text/plain": [
       "'Spain'"
      ]
     },
     "execution_count": 58,
     "metadata": {},
     "output_type": "execute_result"
    }
   ],
   "source": [
    "txt = \"The rain in Spain\"\n",
    "hh= re.search(r\"\\bS\\w+\", txt)\n",
    "hh.group()\n"
   ]
  },
  {
   "cell_type": "code",
   "execution_count": 59,
   "metadata": {},
   "outputs": [],
   "source": [
    "s = 'foo123bar'"
   ]
  },
  {
   "cell_type": "code",
   "execution_count": 60,
   "metadata": {},
   "outputs": [
    {
     "data": {
      "text/plain": [
       "True"
      ]
     },
     "execution_count": 60,
     "metadata": {},
     "output_type": "execute_result"
    }
   ],
   "source": [
    "'123'in s"
   ]
  },
  {
   "cell_type": "code",
   "execution_count": 61,
   "metadata": {},
   "outputs": [
    {
     "data": {
      "text/plain": [
       "3"
      ]
     },
     "execution_count": 61,
     "metadata": {},
     "output_type": "execute_result"
    }
   ],
   "source": [
    "s.find('123')"
   ]
  },
  {
   "cell_type": "code",
   "execution_count": 62,
   "metadata": {},
   "outputs": [
    {
     "data": {
      "text/plain": [
       "3"
      ]
     },
     "execution_count": 62,
     "metadata": {},
     "output_type": "execute_result"
    }
   ],
   "source": [
    "s.index('123')"
   ]
  },
  {
   "cell_type": "code",
   "execution_count": 63,
   "metadata": {},
   "outputs": [
    {
     "name": "stdout",
     "output_type": "stream",
     "text": [
      "found a match\n"
     ]
    }
   ],
   "source": [
    "if re.search('123',s):\n",
    "    print(\"found a match\")\n",
    "else:\n",
    "    print(\"no match\")\n",
    "    \n"
   ]
  },
  {
   "cell_type": "code",
   "execution_count": null,
   "metadata": {},
   "outputs": [],
   "source": [
    "#<re.Match object; span=(3, 4), match=' '> in the result means that span=(3,6) is the portion in the string where the match was found and this means s[3:6] in the slice notation"
   ]
  }
 ],
 "metadata": {
  "kernelspec": {
   "display_name": "Python 3",
   "language": "python",
   "name": "python3"
  },
  "language_info": {
   "codemirror_mode": {
    "name": "ipython",
    "version": 3
   },
   "file_extension": ".py",
   "mimetype": "text/x-python",
   "name": "python",
   "nbconvert_exporter": "python",
   "pygments_lexer": "ipython3",
   "version": "3.7.4"
  }
 },
 "nbformat": 4,
 "nbformat_minor": 2
}
