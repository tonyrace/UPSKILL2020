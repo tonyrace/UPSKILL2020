{
 "cells": [
  {
   "cell_type": "markdown",
   "metadata": {},
   "source": [
    "<h1 style=\"color:blue;\">Setting up Dependencies</h1>\n",
    "\n",
    "\n",
    "<h4 >SparkSession - hive<br>\n",
    "\n",
    "SparkContext<br>\n",
    "\n",
    "Spark UI<br>\n",
    "\n",
    "Version<br>\n",
    "    v2.4.0<br>\n",
    "Master<br>\n",
    "    local[*]<br>\n",
    "AppName<br>\n",
    "PySparkShell</h4>\n"
   ]
  },
  {
   "cell_type": "code",
   "execution_count": 1,
   "metadata": {},
   "outputs": [],
   "source": [
    "from pyspark.context import SparkContext\n",
    "from pyspark.sql.context import SQLContext\n",
    "from pyspark.sql.session import SparkSession\n",
    "    \n",
    "sc = SparkContext()\n",
    "sqlContext = SQLContext(sc)\n",
    "spark = SparkSession(sc)"
   ]
  },
  {
   "cell_type": "code",
   "execution_count": 2,
   "metadata": {
    "scrolled": true
   },
   "outputs": [],
   "source": [
    "import os\n",
    "\n",
    "# Set spark environments to work with python3\n",
    "os.environ['PYSPARK_PYTHON'] = '/usr/bin/python3'\n",
    "os.environ['PYSPARK_DRIVER_PYTHON'] = '/usr/bin/python3'"
   ]
  },
  {
   "cell_type": "code",
   "execution_count": 3,
   "metadata": {
    "scrolled": true
   },
   "outputs": [],
   "source": [
    "import re\n",
    "import pandas as pd"
   ]
  },
  {
   "cell_type": "markdown",
   "metadata": {},
   "source": [
    "<h1 style=\"color:blue;\">Basic Regular Expressions</h1>"
   ]
  },
  {
   "cell_type": "code",
   "execution_count": 4,
   "metadata": {
    "scrolled": true
   },
   "outputs": [
    {
     "name": "stdout",
     "output_type": "stream",
     "text": [
      "<_sre.SRE_Match object; span=(0, 25), match=\"I'm searching for a spark\"> 0 25\n",
      "<_sre.SRE_Match object; span=(25, 36), match=' in PySpark'> 25 36\n"
     ]
    }
   ],
   "source": [
    "m = re.finditer(r'.*?(spark).*?', \"I'm searching for a spark in PySpark\", re.I)\n",
    "for match in m:\n",
    "    print(match, match.start(), match.end())"
   ]
  },
  {
   "cell_type": "markdown",
   "metadata": {},
   "source": [
    "<h1 style=\"color:blue;\">Loading the dataset</h1>"
   ]
  },
  {
   "cell_type": "code",
   "execution_count": 5,
   "metadata": {
    "scrolled": true
   },
   "outputs": [],
   "source": [
    "acunetix = \"data/acunetix.txt\""
   ]
  },
  {
   "cell_type": "markdown",
   "metadata": {},
   "source": [
    "<h1 style=\"color:blue\">Taking a look at the metadata of our dataframe</h1>"
   ]
  },
  {
   "cell_type": "code",
   "execution_count": 6,
   "metadata": {
    "scrolled": true
   },
   "outputs": [
    {
     "name": "stdout",
     "output_type": "stream",
     "text": [
      "root\n",
      " |-- value: string (nullable = true)\n",
      "\n"
     ]
    }
   ],
   "source": [
    "base_df = spark.read.text(acunetix)\n",
    "base_df.printSchema()"
   ]
  },
  {
   "cell_type": "code",
   "execution_count": 7,
   "metadata": {
    "scrolled": true
   },
   "outputs": [
    {
     "data": {
      "text/plain": [
       "pyspark.sql.dataframe.DataFrame"
      ]
     },
     "execution_count": 7,
     "metadata": {},
     "output_type": "execute_result"
    }
   ],
   "source": [
    "type(base_df)"
   ]
  },
  {
   "cell_type": "code",
   "execution_count": 8,
   "metadata": {
    "scrolled": true
   },
   "outputs": [
    {
     "data": {
      "text/plain": [
       "pyspark.rdd.RDD"
      ]
     },
     "execution_count": 8,
     "metadata": {},
     "output_type": "execute_result"
    }
   ],
   "source": [
    "base_df_rdd = base_df.rdd\n",
    "type(base_df_rdd)"
   ]
  },
  {
   "cell_type": "markdown",
   "metadata": {},
   "source": [
    "<h1 style=\"color:blue;\">Viewing sample data in our dataframe </h1>\n",
    "<h4>Looks like it needs to be wrangled and parsed!</h4>"
   ]
  },
  {
   "cell_type": "code",
   "execution_count": 9,
   "metadata": {
    "scrolled": true
   },
   "outputs": [
    {
     "name": "stdout",
     "output_type": "stream",
     "text": [
      "+-------------------------------------------------------------------------------------------------------------------------------------------------------------------------------------------------------------------------------------------------------------------------------------------------------------+\n",
      "|value                                                                                                                                                                                                                                                                                                        |\n",
      "+-------------------------------------------------------------------------------------------------------------------------------------------------------------------------------------------------------------------------------------------------------------------------------------------------------------+\n",
      "|\"192.168.4.25 - - [22/Dec/2016:16:30:52 +0300] \"POST /administrator/index.php HTTP/1.1\" 303 382 \"http://192.168.4.161/DVWA\" \"Mozilla/5.0 (Windows NT 6.1; WOW64) AppleWebKit/537.21 (KHTML, like Gecko) Chrome/41.0.2228.0 Safari/537.21\"\"                                                                   |\n",
      "|\"192.168.4.25 - - [22/Dec/2016:16:29:05 +0300] \"POST /index.php/component/search/ HTTP/1.1\" 500 2011 \"-\" \"Mozilla/5.0 (Windows NT 6.1; WOW64) AppleWebKit/537.21 (KHTML, like Gecko) Chrome/41.0.2228.0 Safari/537.21\"\"                                                                                      |\n",
      "|\"192.168.4.25 - - [22/Dec/2016:16:28:53 +0300] \"POST /index.php/component/search/ HTTP/1.1\" 303 374 \"http://192.168.4.161/DVWA\" \"Mozilla/5.0 (Windows NT 6.1; WOW64) AppleWebKit/537.21 (KHTML, like Gecko) Chrome/41.0.2228.0 Safari/537.21\"\"                                                               |\n",
      "|\"192.168.4.25 - - [22/Dec/2016:16:32:50 +0300] \"POST /index.php/component/search/ HTTP/1.1\" 200 3054 \"http://192.168.4.161/DVWA\" \"Mozilla/5.0 (Windows NT 6.1; WOW64) AppleWebKit/537.21 (KHTML, like Gecko) Chrome/41.0.2228.0 Safari/537.21\"\"                                                              |\n",
      "|\"192.168.4.25 - - [22/Dec/2016:16:29:13 +0300] \"POST /index.php/component/search/ HTTP/1.1\" 200 3056 \"-\" \"Mozilla/5.0 (Windows NT 6.1; WOW64) AppleWebKit/537.21 (KHTML, like Gecko) Chrome/41.0.2228.0 Safari/537.21\"\"                                                                                      |\n",
      "|\"192.168.4.25 - - [22/Dec/2016:16:29:33 +0300] \"GET /index.php/component/search/?searchword=&ordering=alpha&searchphrase=all&areas[0]=newsfeeds HTTP/1.1\" 200 3122 \"http://192.168.4.161/DVWA\" \"Mozilla/5.0 (Windows NT 6.1; WOW64) AppleWebKit/537.21 (KHTML, like Gecko) Chrome/41.0.2228.0 Safari/537.21\"\"|\n",
      "|\"192.168.4.25 - - [22/Dec/2016:16:24:39 +0300] \"POST /index.php/component/search/ HTTP/1.1\" 303 412 \"-\" \"Mozilla/5.0 (Windows NT 6.1; WOW64) AppleWebKit/537.21 (KHTML, like Gecko) Chrome/41.0.2228.0 Safari/537.21\"\"                                                                                       |\n",
      "|\"192.168.4.25 - - [22/Dec/2016:16:28:52 +0300] \"POST /index.php/component/search/ HTTP/1.1\" 303 377 \"http://192.168.4.161/DVWA\" \"Mozilla/5.0 (Windows NT 6.1; WOW64) AppleWebKit/537.21 (KHTML, like Gecko) Chrome/41.0.2228.0 Safari/537.21\"\"                                                               |\n",
      "|\"192.168.4.25 - - [22/Dec/2016:16:28:58 +0300] \"POST /index.php/component/search/ HTTP/1.1\" 200 3052 \"-\" \"Mozilla/5.0 (Windows NT 6.1; WOW64) AppleWebKit/537.21 (KHTML, like Gecko) Chrome/41.0.2228.0 Safari/537.21\"\"                                                                                      |\n",
      "|\"192.168.4.25 - - [22/Dec/2016:16:21:56 +0300] \"POST /index.php/component/search/ HTTP/1.1\" 303 376 \"http://192.168.4.161/DVWA\" \"Mozilla/5.0 (Windows NT 6.1; WOW64) AppleWebKit/537.21 (KHTML, like Gecko) Chrome/41.0.2228.0 Safari/537.21\"\"                                                               |\n",
      "+-------------------------------------------------------------------------------------------------------------------------------------------------------------------------------------------------------------------------------------------------------------------------------------------------------------+\n",
      "only showing top 10 rows\n",
      "\n"
     ]
    }
   ],
   "source": [
    "base_df.show(10, truncate=False)"
   ]
  },
  {
   "cell_type": "markdown",
   "metadata": {},
   "source": [
    "<h4 style=\"color:blue;\">Getting data from an RDD is slightly different. You can see how the data representation is different in the following RDD<h4>"
   ]
  },
  {
   "cell_type": "code",
   "execution_count": 10,
   "metadata": {
    "scrolled": true
   },
   "outputs": [
    {
     "data": {
      "text/plain": [
       "[Row(value='\"192.168.4.25 - - [22/Dec/2016:16:30:52 +0300] \"POST /administrator/index.php HTTP/1.1\" 303 382 \"http://192.168.4.161/DVWA\" \"Mozilla/5.0 (Windows NT 6.1; WOW64) AppleWebKit/537.21 (KHTML, like Gecko) Chrome/41.0.2228.0 Safari/537.21\"\"'),\n",
       " Row(value='\"192.168.4.25 - - [22/Dec/2016:16:29:05 +0300] \"POST /index.php/component/search/ HTTP/1.1\" 500 2011 \"-\" \"Mozilla/5.0 (Windows NT 6.1; WOW64) AppleWebKit/537.21 (KHTML, like Gecko) Chrome/41.0.2228.0 Safari/537.21\"\"'),\n",
       " Row(value='\"192.168.4.25 - - [22/Dec/2016:16:28:53 +0300] \"POST /index.php/component/search/ HTTP/1.1\" 303 374 \"http://192.168.4.161/DVWA\" \"Mozilla/5.0 (Windows NT 6.1; WOW64) AppleWebKit/537.21 (KHTML, like Gecko) Chrome/41.0.2228.0 Safari/537.21\"\"'),\n",
       " Row(value='\"192.168.4.25 - - [22/Dec/2016:16:32:50 +0300] \"POST /index.php/component/search/ HTTP/1.1\" 200 3054 \"http://192.168.4.161/DVWA\" \"Mozilla/5.0 (Windows NT 6.1; WOW64) AppleWebKit/537.21 (KHTML, like Gecko) Chrome/41.0.2228.0 Safari/537.21\"\"'),\n",
       " Row(value='\"192.168.4.25 - - [22/Dec/2016:16:29:13 +0300] \"POST /index.php/component/search/ HTTP/1.1\" 200 3056 \"-\" \"Mozilla/5.0 (Windows NT 6.1; WOW64) AppleWebKit/537.21 (KHTML, like Gecko) Chrome/41.0.2228.0 Safari/537.21\"\"'),\n",
       " Row(value='\"192.168.4.25 - - [22/Dec/2016:16:29:33 +0300] \"GET /index.php/component/search/?searchword=&ordering=alpha&searchphrase=all&areas[0]=newsfeeds HTTP/1.1\" 200 3122 \"http://192.168.4.161/DVWA\" \"Mozilla/5.0 (Windows NT 6.1; WOW64) AppleWebKit/537.21 (KHTML, like Gecko) Chrome/41.0.2228.0 Safari/537.21\"\"'),\n",
       " Row(value='\"192.168.4.25 - - [22/Dec/2016:16:24:39 +0300] \"POST /index.php/component/search/ HTTP/1.1\" 303 412 \"-\" \"Mozilla/5.0 (Windows NT 6.1; WOW64) AppleWebKit/537.21 (KHTML, like Gecko) Chrome/41.0.2228.0 Safari/537.21\"\"'),\n",
       " Row(value='\"192.168.4.25 - - [22/Dec/2016:16:28:52 +0300] \"POST /index.php/component/search/ HTTP/1.1\" 303 377 \"http://192.168.4.161/DVWA\" \"Mozilla/5.0 (Windows NT 6.1; WOW64) AppleWebKit/537.21 (KHTML, like Gecko) Chrome/41.0.2228.0 Safari/537.21\"\"'),\n",
       " Row(value='\"192.168.4.25 - - [22/Dec/2016:16:28:58 +0300] \"POST /index.php/component/search/ HTTP/1.1\" 200 3052 \"-\" \"Mozilla/5.0 (Windows NT 6.1; WOW64) AppleWebKit/537.21 (KHTML, like Gecko) Chrome/41.0.2228.0 Safari/537.21\"\"'),\n",
       " Row(value='\"192.168.4.25 - - [22/Dec/2016:16:21:56 +0300] \"POST /index.php/component/search/ HTTP/1.1\" 303 376 \"http://192.168.4.161/DVWA\" \"Mozilla/5.0 (Windows NT 6.1; WOW64) AppleWebKit/537.21 (KHTML, like Gecko) Chrome/41.0.2228.0 Safari/537.21\"\"')]"
      ]
     },
     "execution_count": 10,
     "metadata": {},
     "output_type": "execute_result"
    }
   ],
   "source": [
    "base_df_rdd.take(10)"
   ]
  },
  {
   "cell_type": "markdown",
   "metadata": {},
   "source": [
    "<h1 style=\"color:blue;\">Data Wrangling</h1>\n",
    "<h4>In this section, we will try and clean and parse our log dataset to really extract structured attributes with meaningful information from each log message.</h4>\n",
    "\n",
    "<h3 style=\"color:blue;\">Data understanding</h3>\n",
    "\n",
    "<h4>If you're familiar with web server logs, you'll recognize that the above displayed data is in Common Log Format.</h4>\n",
    "\n",
    "<h4>The fields are: remotehost rfc931 authuser [date] \"request\" status bytes</h4>"
   ]
  },
  {
   "cell_type": "markdown",
   "metadata": {},
   "source": [
    "\n",
    "<h2 style=\"color:blue;\">Data Parsing and Extraction with Regular Expressions</h2>\n",
    "<h4>Next, we have to parse it into individual columns. We'll use the special built-in regexp_extract() function to do the parsing.<br> This function matches a column against a regular expression with one or more capture groups and allows you to extract one of the matched groups.<br> We'll use one regular expression for each field we wish to extract.<h4>\n",
    "\n",
    "<h4>You must have heard or used a fair bit of regular expressions by now. <br>If you find regular expressions confusing (and they certainly can be), and you want to learn more about them, we recommend checking out the RegexOne web site. <br>You might also find Regular Expressions Cookbook, by Goyvaerts and Levithan, to be useful as a reference.</h4>"
   ]
  },
  {
   "cell_type": "code",
   "execution_count": 11,
   "metadata": {
    "scrolled": true
   },
   "outputs": [
    {
     "name": "stdout",
     "output_type": "stream",
     "text": [
      "(6539, 1)\n"
     ]
    }
   ],
   "source": [
    "print((base_df.count(), len(base_df.columns)))"
   ]
  },
  {
   "cell_type": "markdown",
   "metadata": {},
   "source": [
    "<h3 style=\"color:blue;\">Let's extract and take a look at some sample log messages</h3>"
   ]
  },
  {
   "cell_type": "code",
   "execution_count": 12,
   "metadata": {
    "scrolled": true
   },
   "outputs": [
    {
     "data": {
      "text/plain": [
       "['\"192.168.4.25 - - [22/Dec/2016:16:30:52 +0300] \"POST /administrator/index.php HTTP/1.1\" 303 382 \"http://192.168.4.161/DVWA\" \"Mozilla/5.0 (Windows NT 6.1; WOW64) AppleWebKit/537.21 (KHTML, like Gecko) Chrome/41.0.2228.0 Safari/537.21\"\"',\n",
       " '\"192.168.4.25 - - [22/Dec/2016:16:29:05 +0300] \"POST /index.php/component/search/ HTTP/1.1\" 500 2011 \"-\" \"Mozilla/5.0 (Windows NT 6.1; WOW64) AppleWebKit/537.21 (KHTML, like Gecko) Chrome/41.0.2228.0 Safari/537.21\"\"',\n",
       " '\"192.168.4.25 - - [22/Dec/2016:16:28:53 +0300] \"POST /index.php/component/search/ HTTP/1.1\" 303 374 \"http://192.168.4.161/DVWA\" \"Mozilla/5.0 (Windows NT 6.1; WOW64) AppleWebKit/537.21 (KHTML, like Gecko) Chrome/41.0.2228.0 Safari/537.21\"\"',\n",
       " '\"192.168.4.25 - - [22/Dec/2016:16:32:50 +0300] \"POST /index.php/component/search/ HTTP/1.1\" 200 3054 \"http://192.168.4.161/DVWA\" \"Mozilla/5.0 (Windows NT 6.1; WOW64) AppleWebKit/537.21 (KHTML, like Gecko) Chrome/41.0.2228.0 Safari/537.21\"\"',\n",
       " '\"192.168.4.25 - - [22/Dec/2016:16:29:13 +0300] \"POST /index.php/component/search/ HTTP/1.1\" 200 3056 \"-\" \"Mozilla/5.0 (Windows NT 6.1; WOW64) AppleWebKit/537.21 (KHTML, like Gecko) Chrome/41.0.2228.0 Safari/537.21\"\"',\n",
       " '\"192.168.4.25 - - [22/Dec/2016:16:29:33 +0300] \"GET /index.php/component/search/?searchword=&ordering=alpha&searchphrase=all&areas[0]=newsfeeds HTTP/1.1\" 200 3122 \"http://192.168.4.161/DVWA\" \"Mozilla/5.0 (Windows NT 6.1; WOW64) AppleWebKit/537.21 (KHTML, like Gecko) Chrome/41.0.2228.0 Safari/537.21\"\"',\n",
       " '\"192.168.4.25 - - [22/Dec/2016:16:24:39 +0300] \"POST /index.php/component/search/ HTTP/1.1\" 303 412 \"-\" \"Mozilla/5.0 (Windows NT 6.1; WOW64) AppleWebKit/537.21 (KHTML, like Gecko) Chrome/41.0.2228.0 Safari/537.21\"\"',\n",
       " '\"192.168.4.25 - - [22/Dec/2016:16:28:52 +0300] \"POST /index.php/component/search/ HTTP/1.1\" 303 377 \"http://192.168.4.161/DVWA\" \"Mozilla/5.0 (Windows NT 6.1; WOW64) AppleWebKit/537.21 (KHTML, like Gecko) Chrome/41.0.2228.0 Safari/537.21\"\"',\n",
       " '\"192.168.4.25 - - [22/Dec/2016:16:28:58 +0300] \"POST /index.php/component/search/ HTTP/1.1\" 200 3052 \"-\" \"Mozilla/5.0 (Windows NT 6.1; WOW64) AppleWebKit/537.21 (KHTML, like Gecko) Chrome/41.0.2228.0 Safari/537.21\"\"',\n",
       " '\"192.168.4.25 - - [22/Dec/2016:16:21:56 +0300] \"POST /index.php/component/search/ HTTP/1.1\" 303 376 \"http://192.168.4.161/DVWA\" \"Mozilla/5.0 (Windows NT 6.1; WOW64) AppleWebKit/537.21 (KHTML, like Gecko) Chrome/41.0.2228.0 Safari/537.21\"\"',\n",
       " '\"192.168.4.25 - - [22/Dec/2016:16:20:49 +0300] \"POST /index.php/component/search/ HTTP/1.1\" 303 376 \"http://192.168.4.161/DVWA\" \"Mozilla/5.0 (Windows NT 6.1; WOW64) AppleWebKit/537.21 (KHTML, like Gecko) Chrome/41.0.2228.0 Safari/537.21\"\"',\n",
       " '\"192.168.4.25 - - [22/Dec/2016:16:18:20 +0300] \"GET /templates/beez_20/css/personal.css HTTP/1.1\" 200 4918 \"http://192.168.4.161/?wvstest=javascript:domxssExecutionSink(1,%22\\'%5C%22%3E%3Cxsstag%3E()locxss%22)\" \"Mozilla/5.0 (Windows NT 6.1; WOW64) AppleWebKit/537.21 (KHTML, like Gecko) Chrome/41.0.2228.0 Safari/537.21\"\"',\n",
       " '\"192.168.4.25 - - [22/Dec/2016:16:28:11 +0300] \"POST /index.php/component/search/ HTTP/1.1\" 303 378 \"http://192.168.4.161/DVWA\" \"Mozilla/5.0 (Windows NT 6.1; WOW64) AppleWebKit/537.21 (KHTML, like Gecko) Chrome/41.0.2228.0 Safari/537.21\"\"',\n",
       " '\"192.168.4.25 - - [22/Dec/2016:16:25:15 +0300] \"POST /index.php/component/search/ HTTP/1.1\" 303 372 \"-\" \"Mozilla/5.0 (Windows NT 6.1; WOW64) AppleWebKit/537.21 (KHTML, like Gecko) Chrome/41.0.2228.0 Safari/537.21\"\"',\n",
       " '\"192.168.4.25 - - [22/Dec/2016:16:26:04 +0300] \"POST /index.php/component/search/ HTTP/1.1\" 303 371 \"http://192.168.4.161/DVWA\" \"Mozilla/5.0 (Windows NT 6.1; WOW64) AppleWebKit/537.21 (KHTML, like Gecko) Chrome/41.0.2228.0 Safari/537.21\"\"']"
      ]
     },
     "execution_count": 12,
     "metadata": {},
     "output_type": "execute_result"
    }
   ],
   "source": [
    "sample_logs = [item['value'] for item in base_df.take(15)]\n",
    "sample_logs"
   ]
  },
  {
   "cell_type": "markdown",
   "metadata": {},
   "source": [
    "\n",
    "<h2 style=\"color:blue;\">Extracting host names</h2>\n",
    "<h4>Let's try and write some regular expressions to extract the host name from the logs</h4>\n"
   ]
  },
  {
   "cell_type": "code",
   "execution_count": 13,
   "metadata": {
    "scrolled": true
   },
   "outputs": [
    {
     "data": {
      "text/plain": [
       "['\"192.168.4.25',\n",
       " '\"192.168.4.25',\n",
       " '\"192.168.4.25',\n",
       " '\"192.168.4.25',\n",
       " '\"192.168.4.25',\n",
       " '\"192.168.4.25',\n",
       " '\"192.168.4.25',\n",
       " '\"192.168.4.25',\n",
       " '\"192.168.4.25',\n",
       " '\"192.168.4.25',\n",
       " '\"192.168.4.25',\n",
       " '\"192.168.4.25',\n",
       " '\"192.168.4.25',\n",
       " '\"192.168.4.25',\n",
       " '\"192.168.4.25']"
      ]
     },
     "execution_count": 13,
     "metadata": {},
     "output_type": "execute_result"
    }
   ],
   "source": [
    "host_pattern = r'(^\\S+\\.[\\S+\\.]+\\S+)\\s'\n",
    "hosts = [re.search(host_pattern, item).group(1)\n",
    "           if re.search(host_pattern, item)\n",
    "           else 'no match'\n",
    "           for item in sample_logs]\n",
    "hosts"
   ]
  },
  {
   "cell_type": "markdown",
   "metadata": {},
   "source": [
    "\n",
    "<h2 style=\"color:blue;\">Extracting timestamps</h2>\n",
    "<h4>Let's now try and use regular expressions to extract the timestamp fields from the logs</h4>"
   ]
  },
  {
   "cell_type": "code",
   "execution_count": 14,
   "metadata": {
    "scrolled": true
   },
   "outputs": [],
   "source": [
    "from pyspark.sql.functions import date_format"
   ]
  },
  {
   "cell_type": "code",
   "execution_count": 15,
   "metadata": {
    "scrolled": true
   },
   "outputs": [
    {
     "data": {
      "text/plain": [
       "['22/Dec/2016:16:30:52 +0300',\n",
       " '22/Dec/2016:16:29:05 +0300',\n",
       " '22/Dec/2016:16:28:53 +0300',\n",
       " '22/Dec/2016:16:32:50 +0300',\n",
       " '22/Dec/2016:16:29:13 +0300',\n",
       " '22/Dec/2016:16:29:33 +0300',\n",
       " '22/Dec/2016:16:24:39 +0300',\n",
       " '22/Dec/2016:16:28:52 +0300',\n",
       " '22/Dec/2016:16:28:58 +0300',\n",
       " '22/Dec/2016:16:21:56 +0300',\n",
       " '22/Dec/2016:16:20:49 +0300',\n",
       " '22/Dec/2016:16:18:20 +0300',\n",
       " '22/Dec/2016:16:28:11 +0300',\n",
       " '22/Dec/2016:16:25:15 +0300',\n",
       " '22/Dec/2016:16:26:04 +0300']"
      ]
     },
     "execution_count": 15,
     "metadata": {},
     "output_type": "execute_result"
    }
   ],
   "source": [
    "# \\[(?P<time>.+)\\]\n",
    "ts_pattern = r'\\[(\\d{2}/\\w{3}/\\d{4}:\\d{2}:\\d{2}:\\d{2} .+\\d{4})]'\n",
    "timestamps = [re.search(ts_pattern, item).group(1) for item in sample_logs]\n",
    "timestamps"
   ]
  },
  {
   "cell_type": "markdown",
   "metadata": {},
   "source": [
    "\n",
    "<h2 style=\"color:blue;\">Extracting HTTP Request Method, URIs and Protocol</h2>\n",
    "\n",
    "<h4>Let's now try and use regular expressions to extract the HTTP request methods, URIs and Protocol patterns fields from the logs</h4>"
   ]
  },
  {
   "cell_type": "code",
   "execution_count": 16,
   "metadata": {
    "scrolled": true
   },
   "outputs": [
    {
     "data": {
      "text/plain": [
       "[('POST', '/administrator/index.php', 'HTTP/1.1'),\n",
       " ('POST', '/index.php/component/search/', 'HTTP/1.1'),\n",
       " ('POST', '/index.php/component/search/', 'HTTP/1.1'),\n",
       " ('POST', '/index.php/component/search/', 'HTTP/1.1'),\n",
       " ('POST', '/index.php/component/search/', 'HTTP/1.1'),\n",
       " ('GET',\n",
       "  '/index.php/component/search/?searchword=&ordering=alpha&searchphrase=all&areas[0]=newsfeeds',\n",
       "  'HTTP/1.1'),\n",
       " ('POST', '/index.php/component/search/', 'HTTP/1.1'),\n",
       " ('POST', '/index.php/component/search/', 'HTTP/1.1'),\n",
       " ('POST', '/index.php/component/search/', 'HTTP/1.1'),\n",
       " ('POST', '/index.php/component/search/', 'HTTP/1.1'),\n",
       " ('POST', '/index.php/component/search/', 'HTTP/1.1'),\n",
       " ('GET', '/templates/beez_20/css/personal.css', 'HTTP/1.1'),\n",
       " ('POST', '/index.php/component/search/', 'HTTP/1.1'),\n",
       " ('POST', '/index.php/component/search/', 'HTTP/1.1'),\n",
       " ('POST', '/index.php/component/search/', 'HTTP/1.1')]"
      ]
     },
     "execution_count": 16,
     "metadata": {},
     "output_type": "execute_result"
    }
   ],
   "source": [
    "method_uri_protocol_pattern = r'\\\"(\\S+)\\s(\\S+)\\s*(\\S*)\\\"'\n",
    "method_uri_protocol = [re.search(method_uri_protocol_pattern, item).groups()\n",
    "               if re.search(method_uri_protocol_pattern, item)\n",
    "               else 'no match'\n",
    "              for item in sample_logs]\n",
    "method_uri_protocol"
   ]
  },
  {
   "cell_type": "markdown",
   "metadata": {},
   "source": [
    "\n",
    "<h2 style=\"color:blue;\">Extracting HTTP Status Codes</h2>\n",
    "<h4>Let's now try and use regular expressions to extract the HTTP status codes from the logs</h4>\n"
   ]
  },
  {
   "cell_type": "code",
   "execution_count": 17,
   "metadata": {
    "scrolled": true
   },
   "outputs": [
    {
     "name": "stdout",
     "output_type": "stream",
     "text": [
      "['303', '500', '303', '200', '200', '200', '303', '303', '200', '303', '303', '200', '303', '303', '303']\n"
     ]
    }
   ],
   "source": [
    "status_pattern = r'\\s(\\d{3})\\s'\n",
    "status = [re.search(status_pattern, item).group(1) for item in sample_logs]\n",
    "print(status)"
   ]
  },
  {
   "cell_type": "markdown",
   "metadata": {},
   "source": [
    "<h2 style=\"color:blue;\">Extracting HTTP Response Content Size</h2>\n",
    "\n",
    "<h4>Let's now try and use regular expressions to extract the HTTP response content size from the logs</h4>"
   ]
  },
  {
   "cell_type": "code",
   "execution_count": 18,
   "metadata": {
    "scrolled": true
   },
   "outputs": [
    {
     "name": "stdout",
     "output_type": "stream",
     "text": [
      "['382', '2011', '374', '3054', '3056', '3122', '412', '377', '3052', '376', '376', '4918', '378', '372', '371']\n"
     ]
    }
   ],
   "source": [
    "content_size_pattern = r'\\s(\\d+) \\\"'\n",
    "content_size = [re.search(content_size_pattern, item).group(1) for item in sample_logs]\n",
    "print(content_size)"
   ]
  },
  {
   "cell_type": "markdown",
   "metadata": {},
   "source": [
    "\n",
    "<h2 style=\"color:blue;\">Putting it all together</h2>\n",
    "<h4>Let's now try and leverage all the regular expression patterns we previously built and use the regexp_extract(...) method to build our dataframe with all the log attributes neatly extracted in their own separate columns.</h4>"
   ]
  },
  {
   "cell_type": "code",
   "execution_count": 19,
   "metadata": {
    "scrolled": true
   },
   "outputs": [
    {
     "name": "stdout",
     "output_type": "stream",
     "text": [
      "+-------------+--------------------+------+--------------------+--------+------+------------+\n",
      "|         host|           timestamp|method|            endpoint|protocol|status|content_size|\n",
      "+-------------+--------------------+------+--------------------+--------+------+------------+\n",
      "|\"192.168.4.25|22/Dec/2016:16:30...|  POST|/administrator/in...|HTTP/1.1|   303|         382|\n",
      "|\"192.168.4.25|22/Dec/2016:16:29...|  POST|/index.php/compon...|HTTP/1.1|   500|        2011|\n",
      "|\"192.168.4.25|22/Dec/2016:16:28...|  POST|/index.php/compon...|HTTP/1.1|   303|         374|\n",
      "|\"192.168.4.25|22/Dec/2016:16:32...|  POST|/index.php/compon...|HTTP/1.1|   200|        3054|\n",
      "|\"192.168.4.25|22/Dec/2016:16:29...|  POST|/index.php/compon...|HTTP/1.1|   200|        3056|\n",
      "|\"192.168.4.25|22/Dec/2016:16:29...|   GET|/index.php/compon...|HTTP/1.1|   200|        3122|\n",
      "|\"192.168.4.25|22/Dec/2016:16:24...|  POST|/index.php/compon...|HTTP/1.1|   303|         412|\n",
      "|\"192.168.4.25|22/Dec/2016:16:28...|  POST|/index.php/compon...|HTTP/1.1|   303|         377|\n",
      "|\"192.168.4.25|22/Dec/2016:16:28...|  POST|/index.php/compon...|HTTP/1.1|   200|        3052|\n",
      "|\"192.168.4.25|22/Dec/2016:16:21...|  POST|/index.php/compon...|HTTP/1.1|   303|         376|\n",
      "+-------------+--------------------+------+--------------------+--------+------+------------+\n",
      "only showing top 10 rows\n",
      "\n",
      "(6539, 7)\n"
     ]
    }
   ],
   "source": [
    "from pyspark.sql.functions import regexp_extract\n",
    "\n",
    "logs_df = base_df.select(regexp_extract('value', host_pattern, 1).alias('host'),\n",
    "                         regexp_extract('value', ts_pattern, 1).alias('timestamp'),\n",
    "                         regexp_extract('value', method_uri_protocol_pattern, 1).alias('method'),\n",
    "                         regexp_extract('value', method_uri_protocol_pattern, 2).alias('endpoint'),\n",
    "                         regexp_extract('value', method_uri_protocol_pattern, 3).alias('protocol'),\n",
    "                         regexp_extract('value', status_pattern, 1).cast('integer').alias('status'),\n",
    "                         regexp_extract('value', content_size_pattern, 1).cast('integer').alias('content_size'))\n",
    "logs_df.show(10, truncate=True)\n",
    "print((logs_df.count(), len(logs_df.columns)))"
   ]
  },
  {
   "cell_type": "markdown",
   "metadata": {},
   "source": [
    "\n",
    "<h2 style=\"color:blue;\">Finding Missing Values</h2>\n",
    "<h4>Missing and null values are the bane of data analysis and machine learning. Let's see how well our data parsing and extraction logic worked. First, let's verify that there are no null rows in the original dataframe.</h4>"
   ]
  },
  {
   "cell_type": "code",
   "execution_count": 20,
   "metadata": {
    "scrolled": true
   },
   "outputs": [
    {
     "data": {
      "text/plain": [
       "0"
      ]
     },
     "execution_count": 20,
     "metadata": {},
     "output_type": "execute_result"
    }
   ],
   "source": [
    "(base_df\n",
    "    .filter(base_df['value']\n",
    "                .isNull())\n",
    "    .count())\n"
   ]
  },
  {
   "cell_type": "markdown",
   "metadata": {},
   "source": [
    "<h2 style=\"color:blue;\">If our data parsing and extraction worked properly, we should not have any rows with potential null values. Let's try and put that to test!</h2>"
   ]
  },
  {
   "cell_type": "code",
   "execution_count": 21,
   "metadata": {
    "scrolled": true
   },
   "outputs": [
    {
     "data": {
      "text/plain": [
       "0"
      ]
     },
     "execution_count": 21,
     "metadata": {},
     "output_type": "execute_result"
    }
   ],
   "source": [
    "bad_rows_df = logs_df.filter(logs_df['host'].isNull()| \n",
    "                             logs_df['timestamp'].isNull() | \n",
    "                             logs_df['method'].isNull() |\n",
    "                             logs_df['endpoint'].isNull() |\n",
    "                             logs_df['status'].isNull() |\n",
    "                             logs_df['content_size'].isNull()|\n",
    "                             logs_df['protocol'].isNull())\n",
    "bad_rows_df.count()"
   ]
  },
  {
   "cell_type": "markdown",
   "metadata": {},
   "source": [
    "<h2 style=\"color:blue;\">Finding Null Counts</h2>"
   ]
  },
  {
   "cell_type": "code",
   "execution_count": 22,
   "metadata": {
    "scrolled": true
   },
   "outputs": [
    {
     "data": {
      "text/plain": [
       "['host',\n",
       " 'timestamp',\n",
       " 'method',\n",
       " 'endpoint',\n",
       " 'protocol',\n",
       " 'status',\n",
       " 'content_size']"
      ]
     },
     "execution_count": 22,
     "metadata": {},
     "output_type": "execute_result"
    }
   ],
   "source": [
    "logs_df.columns"
   ]
  },
  {
   "cell_type": "code",
   "execution_count": 23,
   "metadata": {
    "scrolled": true
   },
   "outputs": [
    {
     "name": "stdout",
     "output_type": "stream",
     "text": [
      "+----+---------+------+--------+--------+------+------------+\n",
      "|host|timestamp|method|endpoint|protocol|status|content_size|\n",
      "+----+---------+------+--------+--------+------+------------+\n",
      "|   0|        0|     0|       0|       0|     0|           0|\n",
      "+----+---------+------+--------+--------+------+------------+\n",
      "\n"
     ]
    }
   ],
   "source": [
    "from pyspark.sql.functions import col\n",
    "from pyspark.sql.functions import sum as spark_sum\n",
    "\n",
    "def count_null(col_name):\n",
    "    return spark_sum(col(col_name).isNull().cast('integer')).alias(col_name)\n",
    "\n",
    "# Build up a list of column expressions, one per column.\n",
    "exprs = [count_null(col_name) for col_name in logs_df.columns]\n",
    "\n",
    "# Run the aggregation. The *exprs converts the list of expressions into\n",
    "# variable function arguments.\n",
    "logs_df.agg(*exprs).show()"
   ]
  },
  {
   "cell_type": "markdown",
   "metadata": {},
   "source": [
    "\n",
    "<h2 style=\"color:blue;\">Handling nulls in HTTP status</h2>\n",
    "<h4>Our original parsing regular expression for the status column was:<br>\n",
    "\n",
    "regexp_extract('value', r'\\s(\\d{3})\\s', 1).cast('integer').alias('status')</br>\n",
    "\n",
    "Could it be that there are more digits making our regular expression wrong? or is the data point itself bad? Let's try and find out!</br>\n",
    "\n",
    "Note: In the expression below, ~ means \"not\".</h4>\n"
   ]
  },
  {
   "cell_type": "code",
   "execution_count": 24,
   "metadata": {
    "scrolled": true
   },
   "outputs": [
    {
     "data": {
      "text/plain": [
       "0"
      ]
     },
     "execution_count": 24,
     "metadata": {},
     "output_type": "execute_result"
    }
   ],
   "source": [
    "null_status_df = base_df.filter(~base_df['value'].rlike(r'\\s(\\d{3})\\s'))\n",
    "null_status_df.count()"
   ]
  },
  {
   "cell_type": "code",
   "execution_count": 25,
   "metadata": {
    "scrolled": true
   },
   "outputs": [
    {
     "name": "stdout",
     "output_type": "stream",
     "text": [
      "+-----+\n",
      "|value|\n",
      "+-----+\n",
      "+-----+\n",
      "\n"
     ]
    }
   ],
   "source": [
    "null_status_df.show(truncate=False)"
   ]
  },
  {
   "cell_type": "code",
   "execution_count": 26,
   "metadata": {
    "scrolled": true
   },
   "outputs": [
    {
     "name": "stdout",
     "output_type": "stream",
     "text": [
      "+----+---------+------+--------+--------+------+------------+\n",
      "|host|timestamp|method|endpoint|protocol|status|content_size|\n",
      "+----+---------+------+--------+--------+------+------------+\n",
      "+----+---------+------+--------+--------+------+------------+\n",
      "\n"
     ]
    }
   ],
   "source": [
    "bad_status_df = null_status_df.select(regexp_extract('value', host_pattern, 1).alias('host'),\n",
    "                                      regexp_extract('value', ts_pattern, 1).alias('timestamp'),\n",
    "                                      regexp_extract('value', method_uri_protocol_pattern, 1).alias('method'),\n",
    "                                      regexp_extract('value', method_uri_protocol_pattern, 2).alias('endpoint'),\n",
    "                                      regexp_extract('value', method_uri_protocol_pattern, 3).alias('protocol'),\n",
    "                                      regexp_extract('value', status_pattern, 1).cast('integer').alias('status'),\n",
    "                                      regexp_extract('value', content_size_pattern, 1).cast('integer').alias('content_size'))\n",
    "bad_status_df.show(truncate=False)"
   ]
  },
  {
   "cell_type": "code",
   "execution_count": 27,
   "metadata": {
    "scrolled": true
   },
   "outputs": [
    {
     "data": {
      "text/plain": [
       "6539"
      ]
     },
     "execution_count": 27,
     "metadata": {},
     "output_type": "execute_result"
    }
   ],
   "source": [
    "logs_df.count()"
   ]
  },
  {
   "cell_type": "code",
   "execution_count": 28,
   "metadata": {
    "scrolled": true
   },
   "outputs": [
    {
     "data": {
      "text/plain": [
       "6539"
      ]
     },
     "execution_count": 28,
     "metadata": {},
     "output_type": "execute_result"
    }
   ],
   "source": [
    "logs_df = logs_df[logs_df['status'].isNotNull()] \n",
    "logs_df.count()"
   ]
  },
  {
   "cell_type": "code",
   "execution_count": 29,
   "metadata": {
    "scrolled": true
   },
   "outputs": [
    {
     "name": "stdout",
     "output_type": "stream",
     "text": [
      "+----+---------+------+--------+--------+------+------------+\n",
      "|host|timestamp|method|endpoint|protocol|status|content_size|\n",
      "+----+---------+------+--------+--------+------+------------+\n",
      "|   0|        0|     0|       0|       0|     0|           0|\n",
      "+----+---------+------+--------+--------+------+------------+\n",
      "\n"
     ]
    }
   ],
   "source": [
    "exprs = [count_null(col_name) for col_name in logs_df.columns]\n",
    "logs_df.agg(*exprs).show()"
   ]
  },
  {
   "cell_type": "markdown",
   "metadata": {},
   "source": [
    "\n",
    "<h2 style=\"color:blue;\">Handling nulls in HTTP content size</h2>\n",
    "<h4>Based on our previous regular expression, our original parsing regular expression for the content_size column was:<br>\n",
    "regexp_extract('value', r'\\s(\\d+)$', 1).cast('integer').alias('content_size')</h4>\n",
    "<h3>Find out the records in our base data frame with potential missing content sizes</h3>"
   ]
  },
  {
   "cell_type": "code",
   "execution_count": 30,
   "metadata": {
    "scrolled": true
   },
   "outputs": [
    {
     "data": {
      "text/plain": [
       "6539"
      ]
     },
     "execution_count": 30,
     "metadata": {},
     "output_type": "execute_result"
    }
   ],
   "source": [
    "null_content_size_df = base_df.filter(~base_df['value'].rlike(r'\\s\\d+$'))\n",
    "null_content_size_df.count()"
   ]
  },
  {
   "cell_type": "code",
   "execution_count": 31,
   "metadata": {
    "scrolled": true
   },
   "outputs": [
    {
     "data": {
      "text/plain": [
       "[Row(value='\"192.168.4.25 - - [22/Dec/2016:16:30:52 +0300] \"POST /administrator/index.php HTTP/1.1\" 303 382 \"http://192.168.4.161/DVWA\" \"Mozilla/5.0 (Windows NT 6.1; WOW64) AppleWebKit/537.21 (KHTML, like Gecko) Chrome/41.0.2228.0 Safari/537.21\"\"'),\n",
       " Row(value='\"192.168.4.25 - - [22/Dec/2016:16:29:05 +0300] \"POST /index.php/component/search/ HTTP/1.1\" 500 2011 \"-\" \"Mozilla/5.0 (Windows NT 6.1; WOW64) AppleWebKit/537.21 (KHTML, like Gecko) Chrome/41.0.2228.0 Safari/537.21\"\"'),\n",
       " Row(value='\"192.168.4.25 - - [22/Dec/2016:16:28:53 +0300] \"POST /index.php/component/search/ HTTP/1.1\" 303 374 \"http://192.168.4.161/DVWA\" \"Mozilla/5.0 (Windows NT 6.1; WOW64) AppleWebKit/537.21 (KHTML, like Gecko) Chrome/41.0.2228.0 Safari/537.21\"\"'),\n",
       " Row(value='\"192.168.4.25 - - [22/Dec/2016:16:32:50 +0300] \"POST /index.php/component/search/ HTTP/1.1\" 200 3054 \"http://192.168.4.161/DVWA\" \"Mozilla/5.0 (Windows NT 6.1; WOW64) AppleWebKit/537.21 (KHTML, like Gecko) Chrome/41.0.2228.0 Safari/537.21\"\"'),\n",
       " Row(value='\"192.168.4.25 - - [22/Dec/2016:16:29:13 +0300] \"POST /index.php/component/search/ HTTP/1.1\" 200 3056 \"-\" \"Mozilla/5.0 (Windows NT 6.1; WOW64) AppleWebKit/537.21 (KHTML, like Gecko) Chrome/41.0.2228.0 Safari/537.21\"\"'),\n",
       " Row(value='\"192.168.4.25 - - [22/Dec/2016:16:29:33 +0300] \"GET /index.php/component/search/?searchword=&ordering=alpha&searchphrase=all&areas[0]=newsfeeds HTTP/1.1\" 200 3122 \"http://192.168.4.161/DVWA\" \"Mozilla/5.0 (Windows NT 6.1; WOW64) AppleWebKit/537.21 (KHTML, like Gecko) Chrome/41.0.2228.0 Safari/537.21\"\"'),\n",
       " Row(value='\"192.168.4.25 - - [22/Dec/2016:16:24:39 +0300] \"POST /index.php/component/search/ HTTP/1.1\" 303 412 \"-\" \"Mozilla/5.0 (Windows NT 6.1; WOW64) AppleWebKit/537.21 (KHTML, like Gecko) Chrome/41.0.2228.0 Safari/537.21\"\"'),\n",
       " Row(value='\"192.168.4.25 - - [22/Dec/2016:16:28:52 +0300] \"POST /index.php/component/search/ HTTP/1.1\" 303 377 \"http://192.168.4.161/DVWA\" \"Mozilla/5.0 (Windows NT 6.1; WOW64) AppleWebKit/537.21 (KHTML, like Gecko) Chrome/41.0.2228.0 Safari/537.21\"\"'),\n",
       " Row(value='\"192.168.4.25 - - [22/Dec/2016:16:28:58 +0300] \"POST /index.php/component/search/ HTTP/1.1\" 200 3052 \"-\" \"Mozilla/5.0 (Windows NT 6.1; WOW64) AppleWebKit/537.21 (KHTML, like Gecko) Chrome/41.0.2228.0 Safari/537.21\"\"'),\n",
       " Row(value='\"192.168.4.25 - - [22/Dec/2016:16:21:56 +0300] \"POST /index.php/component/search/ HTTP/1.1\" 303 376 \"http://192.168.4.161/DVWA\" \"Mozilla/5.0 (Windows NT 6.1; WOW64) AppleWebKit/537.21 (KHTML, like Gecko) Chrome/41.0.2228.0 Safari/537.21\"\"')]"
      ]
     },
     "execution_count": 31,
     "metadata": {},
     "output_type": "execute_result"
    }
   ],
   "source": [
    "null_content_size_df.take(10)"
   ]
  },
  {
   "cell_type": "code",
   "execution_count": 32,
   "metadata": {
    "scrolled": true
   },
   "outputs": [],
   "source": [
    "logs_df = logs_df.na.fill({'content_size': 0})"
   ]
  },
  {
   "cell_type": "code",
   "execution_count": 33,
   "metadata": {
    "scrolled": true
   },
   "outputs": [
    {
     "name": "stdout",
     "output_type": "stream",
     "text": [
      "+----+---------+------+--------+--------+------+------------+\n",
      "|host|timestamp|method|endpoint|protocol|status|content_size|\n",
      "+----+---------+------+--------+--------+------+------------+\n",
      "|   0|        0|     0|       0|       0|     0|           0|\n",
      "+----+---------+------+--------+--------+------+------------+\n",
      "\n"
     ]
    }
   ],
   "source": [
    "exprs = [count_null(col_name) for col_name in logs_df.columns]\n",
    "logs_df.agg(*exprs).show()"
   ]
  },
  {
   "cell_type": "markdown",
   "metadata": {},
   "source": [
    "\n",
    "<h2 style=\"color:blue;\">Handling Temporal Fields (Timestamp)</h2>\n",
    "<h4>Now that we have a clean, parsed DataFrame, we have to parse the timestamp field into an actual timestamp.<br> The Common Log Format time is somewhat non-standard.<br> A User-Defined Function (UDF) is the most straightforward way to parse it.</h4>\n"
   ]
  },
  {
   "cell_type": "code",
   "execution_count": 34,
   "metadata": {
    "scrolled": true
   },
   "outputs": [],
   "source": [
    "from pyspark.sql.functions import udf\n",
    "\n",
    "month_map = {\n",
    "  'Jan': 1, 'Feb': 2, 'Mar':3, 'Apr':4, 'May':5, 'Jun':6, 'Jul':7,\n",
    "  'Aug':8,  'Sep': 9, 'Oct':10, 'Nov': 11, 'Dec': 12\n",
    "}\n",
    "\n",
    "def parse_clf_time(text):\n",
    "    \"\"\" Convert Common Log time format into a Python datetime object\n",
    "    Args:\n",
    "        text (str): date and time in Apache time format [dd/mmm/yyyy:hh:mm:ss (+/-)zzzz]\n",
    "    Returns:\n",
    "        a string suitable for passing to CAST('timestamp')\n",
    "    \"\"\"\n",
    "    # NOTE: We're ignoring the time zones here, might need to be handled depending on the problem you are solving\n",
    "    return \"{0:04d}-{1:02d}-{2:02d} {3:02d}:{4:02d}:{5:02d}\".format(\n",
    "      int(text[7:11]),\n",
    "      month_map[text[3:6]],\n",
    "      int(text[0:2]),\n",
    "      int(text[12:14]),\n",
    "      int(text[15:17]),\n",
    "      int(text[18:20])\n",
    "    )"
   ]
  },
  {
   "cell_type": "code",
   "execution_count": 35,
   "metadata": {
    "scrolled": true
   },
   "outputs": [
    {
     "data": {
      "text/plain": [
       "['22/Dec/2016:16:30:52 +0300',\n",
       " '22/Dec/2016:16:29:05 +0300',\n",
       " '22/Dec/2016:16:28:53 +0300',\n",
       " '22/Dec/2016:16:32:50 +0300',\n",
       " '22/Dec/2016:16:29:13 +0300']"
      ]
     },
     "execution_count": 35,
     "metadata": {},
     "output_type": "execute_result"
    }
   ],
   "source": [
    "sample_ts = [item['timestamp'] for item in logs_df.select('timestamp').take(5)]\n",
    "sample_ts"
   ]
  },
  {
   "cell_type": "code",
   "execution_count": 36,
   "metadata": {
    "scrolled": true
   },
   "outputs": [],
   "source": [
    "# [parse_clf_time(item) for item in sample_ts]"
   ]
  },
  {
   "cell_type": "code",
   "execution_count": 37,
   "metadata": {
    "scrolled": true
   },
   "outputs": [
    {
     "name": "stdout",
     "output_type": "stream",
     "text": [
      "+-------------+------+--------------------+--------+------+------------+-------------------+\n",
      "|         host|method|            endpoint|protocol|status|content_size|               time|\n",
      "+-------------+------+--------------------+--------+------+------------+-------------------+\n",
      "|\"192.168.4.25|  POST|/administrator/in...|HTTP/1.1|   303|         382|2016-12-22 16:30:52|\n",
      "|\"192.168.4.25|  POST|/index.php/compon...|HTTP/1.1|   500|        2011|2016-12-22 16:29:05|\n",
      "|\"192.168.4.25|  POST|/index.php/compon...|HTTP/1.1|   303|         374|2016-12-22 16:28:53|\n",
      "|\"192.168.4.25|  POST|/index.php/compon...|HTTP/1.1|   200|        3054|2016-12-22 16:32:50|\n",
      "|\"192.168.4.25|  POST|/index.php/compon...|HTTP/1.1|   200|        3056|2016-12-22 16:29:13|\n",
      "|\"192.168.4.25|   GET|/index.php/compon...|HTTP/1.1|   200|        3122|2016-12-22 16:29:33|\n",
      "|\"192.168.4.25|  POST|/index.php/compon...|HTTP/1.1|   303|         412|2016-12-22 16:24:39|\n",
      "|\"192.168.4.25|  POST|/index.php/compon...|HTTP/1.1|   303|         377|2016-12-22 16:28:52|\n",
      "|\"192.168.4.25|  POST|/index.php/compon...|HTTP/1.1|   200|        3052|2016-12-22 16:28:58|\n",
      "|\"192.168.4.25|  POST|/index.php/compon...|HTTP/1.1|   303|         376|2016-12-22 16:21:56|\n",
      "+-------------+------+--------------------+--------+------+------------+-------------------+\n",
      "only showing top 10 rows\n",
      "\n"
     ]
    }
   ],
   "source": [
    "udf_parse_time = udf(parse_clf_time)\n",
    "\n",
    "logs_df = logs_df.select('*', udf_parse_time(logs_df['timestamp']).cast('timestamp').alias('time')).drop('timestamp')\n",
    "logs_df.show(10, truncate=True)"
   ]
  },
  {
   "cell_type": "code",
   "execution_count": 38,
   "metadata": {
    "scrolled": true
   },
   "outputs": [
    {
     "name": "stdout",
     "output_type": "stream",
     "text": [
      "root\n",
      " |-- host: string (nullable = true)\n",
      " |-- method: string (nullable = true)\n",
      " |-- endpoint: string (nullable = true)\n",
      " |-- protocol: string (nullable = true)\n",
      " |-- status: integer (nullable = true)\n",
      " |-- content_size: integer (nullable = false)\n",
      " |-- time: timestamp (nullable = true)\n",
      "\n"
     ]
    }
   ],
   "source": [
    "logs_df.printSchema()"
   ]
  },
  {
   "cell_type": "code",
   "execution_count": 39,
   "metadata": {
    "scrolled": true
   },
   "outputs": [
    {
     "data": {
      "text/html": [
       "<div>\n",
       "<style scoped>\n",
       "    .dataframe tbody tr th:only-of-type {\n",
       "        vertical-align: middle;\n",
       "    }\n",
       "\n",
       "    .dataframe tbody tr th {\n",
       "        vertical-align: top;\n",
       "    }\n",
       "\n",
       "    .dataframe thead th {\n",
       "        text-align: right;\n",
       "    }\n",
       "</style>\n",
       "<table border=\"1\" class=\"dataframe\">\n",
       "  <thead>\n",
       "    <tr style=\"text-align: right;\">\n",
       "      <th></th>\n",
       "      <th>host</th>\n",
       "      <th>method</th>\n",
       "      <th>endpoint</th>\n",
       "      <th>protocol</th>\n",
       "      <th>status</th>\n",
       "      <th>content_size</th>\n",
       "      <th>time</th>\n",
       "    </tr>\n",
       "  </thead>\n",
       "  <tbody>\n",
       "    <tr>\n",
       "      <th>0</th>\n",
       "      <td>\"192.168.4.25</td>\n",
       "      <td>POST</td>\n",
       "      <td>/administrator/index.php</td>\n",
       "      <td>HTTP/1.1</td>\n",
       "      <td>303</td>\n",
       "      <td>382</td>\n",
       "      <td>2016-12-22 16:30:52</td>\n",
       "    </tr>\n",
       "    <tr>\n",
       "      <th>1</th>\n",
       "      <td>\"192.168.4.25</td>\n",
       "      <td>POST</td>\n",
       "      <td>/index.php/component/search/</td>\n",
       "      <td>HTTP/1.1</td>\n",
       "      <td>500</td>\n",
       "      <td>2011</td>\n",
       "      <td>2016-12-22 16:29:05</td>\n",
       "    </tr>\n",
       "    <tr>\n",
       "      <th>2</th>\n",
       "      <td>\"192.168.4.25</td>\n",
       "      <td>POST</td>\n",
       "      <td>/index.php/component/search/</td>\n",
       "      <td>HTTP/1.1</td>\n",
       "      <td>303</td>\n",
       "      <td>374</td>\n",
       "      <td>2016-12-22 16:28:53</td>\n",
       "    </tr>\n",
       "    <tr>\n",
       "      <th>3</th>\n",
       "      <td>\"192.168.4.25</td>\n",
       "      <td>POST</td>\n",
       "      <td>/index.php/component/search/</td>\n",
       "      <td>HTTP/1.1</td>\n",
       "      <td>200</td>\n",
       "      <td>3054</td>\n",
       "      <td>2016-12-22 16:32:50</td>\n",
       "    </tr>\n",
       "    <tr>\n",
       "      <th>4</th>\n",
       "      <td>\"192.168.4.25</td>\n",
       "      <td>POST</td>\n",
       "      <td>/index.php/component/search/</td>\n",
       "      <td>HTTP/1.1</td>\n",
       "      <td>200</td>\n",
       "      <td>3056</td>\n",
       "      <td>2016-12-22 16:29:13</td>\n",
       "    </tr>\n",
       "  </tbody>\n",
       "</table>\n",
       "</div>"
      ],
      "text/plain": [
       "            host method                      endpoint  protocol  status  \\\n",
       "0  \"192.168.4.25   POST      /administrator/index.php  HTTP/1.1     303   \n",
       "1  \"192.168.4.25   POST  /index.php/component/search/  HTTP/1.1     500   \n",
       "2  \"192.168.4.25   POST  /index.php/component/search/  HTTP/1.1     303   \n",
       "3  \"192.168.4.25   POST  /index.php/component/search/  HTTP/1.1     200   \n",
       "4  \"192.168.4.25   POST  /index.php/component/search/  HTTP/1.1     200   \n",
       "\n",
       "   content_size                time  \n",
       "0           382 2016-12-22 16:30:52  \n",
       "1          2011 2016-12-22 16:29:05  \n",
       "2           374 2016-12-22 16:28:53  \n",
       "3          3054 2016-12-22 16:32:50  \n",
       "4          3056 2016-12-22 16:29:13  "
      ]
     },
     "execution_count": 39,
     "metadata": {},
     "output_type": "execute_result"
    }
   ],
   "source": [
    "logs_df.limit(5).toPandas()"
   ]
  },
  {
   "cell_type": "code",
   "execution_count": 40,
   "metadata": {
    "scrolled": true
   },
   "outputs": [
    {
     "data": {
      "text/plain": [
       "DataFrame[host: string, method: string, endpoint: string, protocol: string, status: int, content_size: int, time: timestamp]"
      ]
     },
     "execution_count": 40,
     "metadata": {},
     "output_type": "execute_result"
    }
   ],
   "source": [
    "logs_df.cache()"
   ]
  },
  {
   "cell_type": "markdown",
   "metadata": {},
   "source": [
    "<h2 style=\"color:blue;\">Data Analysis on our Web Logs</h2>\n",
    "<h4>Now that we have a DataFrame containing the parsed log file as a data frame, we can perform some interesting exploratory data analysis (EDA)</h4>\n",
    "<h3>Content Size Statistics</h3>\n",
    "\n",
    "<h4>Let's compute some statistics about the sizes of content being returned by the web server. In particular, we'd like to know what are the average, minimum, and maximum content sizes.</h4>\n",
    "\n",
    "<h4>We can compute the statistics by calling .describe() on the content_size column of logs_df. The .describe() function returns the count, mean, stddev, min, and max of a given column.</h4>"
   ]
  },
  {
   "cell_type": "code",
   "execution_count": 41,
   "metadata": {
    "scrolled": true
   },
   "outputs": [
    {
     "data": {
      "text/html": [
       "<div>\n",
       "<style scoped>\n",
       "    .dataframe tbody tr th:only-of-type {\n",
       "        vertical-align: middle;\n",
       "    }\n",
       "\n",
       "    .dataframe tbody tr th {\n",
       "        vertical-align: top;\n",
       "    }\n",
       "\n",
       "    .dataframe thead th {\n",
       "        text-align: right;\n",
       "    }\n",
       "</style>\n",
       "<table border=\"1\" class=\"dataframe\">\n",
       "  <thead>\n",
       "    <tr style=\"text-align: right;\">\n",
       "      <th></th>\n",
       "      <th>summary</th>\n",
       "      <th>content_size</th>\n",
       "    </tr>\n",
       "  </thead>\n",
       "  <tbody>\n",
       "    <tr>\n",
       "      <th>0</th>\n",
       "      <td>count</td>\n",
       "      <td>6539</td>\n",
       "    </tr>\n",
       "    <tr>\n",
       "      <th>1</th>\n",
       "      <td>mean</td>\n",
       "      <td>1274.8664933476066</td>\n",
       "    </tr>\n",
       "    <tr>\n",
       "      <th>2</th>\n",
       "      <td>stddev</td>\n",
       "      <td>1882.2479225751963</td>\n",
       "    </tr>\n",
       "    <tr>\n",
       "      <th>3</th>\n",
       "      <td>min</td>\n",
       "      <td>223</td>\n",
       "    </tr>\n",
       "    <tr>\n",
       "      <th>4</th>\n",
       "      <td>max</td>\n",
       "      <td>68451</td>\n",
       "    </tr>\n",
       "  </tbody>\n",
       "</table>\n",
       "</div>"
      ],
      "text/plain": [
       "  summary        content_size\n",
       "0   count                6539\n",
       "1    mean  1274.8664933476066\n",
       "2  stddev  1882.2479225751963\n",
       "3     min                 223\n",
       "4     max               68451"
      ]
     },
     "execution_count": 41,
     "metadata": {},
     "output_type": "execute_result"
    }
   ],
   "source": [
    "content_size_summary_df = logs_df.describe(['content_size'])\n",
    "content_size_summary_df.toPandas()"
   ]
  },
  {
   "cell_type": "code",
   "execution_count": 42,
   "metadata": {
    "scrolled": true
   },
   "outputs": [
    {
     "data": {
      "text/html": [
       "<div>\n",
       "<style scoped>\n",
       "    .dataframe tbody tr th:only-of-type {\n",
       "        vertical-align: middle;\n",
       "    }\n",
       "\n",
       "    .dataframe tbody tr th {\n",
       "        vertical-align: top;\n",
       "    }\n",
       "\n",
       "    .dataframe thead th {\n",
       "        text-align: right;\n",
       "    }\n",
       "</style>\n",
       "<table border=\"1\" class=\"dataframe\">\n",
       "  <thead>\n",
       "    <tr style=\"text-align: right;\">\n",
       "      <th></th>\n",
       "      <th>min_content_size</th>\n",
       "      <th>max_content_size</th>\n",
       "      <th>mean_content_size</th>\n",
       "      <th>std_content_size</th>\n",
       "      <th>count_content_size</th>\n",
       "    </tr>\n",
       "  </thead>\n",
       "  <tbody>\n",
       "    <tr>\n",
       "      <th>0</th>\n",
       "      <td>223</td>\n",
       "      <td>68451</td>\n",
       "      <td>1274.866493</td>\n",
       "      <td>1882.247923</td>\n",
       "      <td>6539</td>\n",
       "    </tr>\n",
       "  </tbody>\n",
       "</table>\n",
       "</div>"
      ],
      "text/plain": [
       "   min_content_size  max_content_size  mean_content_size  std_content_size  \\\n",
       "0               223             68451        1274.866493       1882.247923   \n",
       "\n",
       "   count_content_size  \n",
       "0                6539  "
      ]
     },
     "execution_count": 42,
     "metadata": {},
     "output_type": "execute_result"
    }
   ],
   "source": [
    "from pyspark.sql import functions as F\n",
    "\n",
    "(logs_df.agg(F.min(logs_df['content_size']).alias('min_content_size'),\n",
    "             F.max(logs_df['content_size']).alias('max_content_size'),\n",
    "             F.mean(logs_df['content_size']).alias('mean_content_size'),\n",
    "             F.stddev(logs_df['content_size']).alias('std_content_size'),\n",
    "             F.count(logs_df['content_size']).alias('count_content_size'))\n",
    "        .toPandas())"
   ]
  },
  {
   "cell_type": "markdown",
   "metadata": {},
   "source": [
    "\n",
    "<h2 style=\"color:blue;\">HTTP Status Code Analysis</h2>\n",
    "<h4>Next, let's look at the status code values that appear in the log. We want to know which status code values appear in the data and how many times.</h4>\n",
    "\n",
    "<h4>We again start with logs_df, then group by the status column, apply the .count() aggregation function, and sort by the status column</h4>\n"
   ]
  },
  {
   "cell_type": "code",
   "execution_count": 43,
   "metadata": {
    "scrolled": true
   },
   "outputs": [],
   "source": [
    "status_freq_df = (logs_df\n",
    "                     .groupBy('status')\n",
    "                     .count()\n",
    "                     .sort('status')\n",
    "                     .cache())"
   ]
  },
  {
   "cell_type": "code",
   "execution_count": 44,
   "metadata": {
    "scrolled": true
   },
   "outputs": [
    {
     "name": "stdout",
     "output_type": "stream",
     "text": [
      "Total distinct HTTP Status Codes: 8\n"
     ]
    }
   ],
   "source": [
    "print('Total distinct HTTP Status Codes:', status_freq_df.count())"
   ]
  },
  {
   "cell_type": "code",
   "execution_count": 45,
   "metadata": {
    "scrolled": true
   },
   "outputs": [
    {
     "data": {
      "text/html": [
       "<div>\n",
       "<style scoped>\n",
       "    .dataframe tbody tr th:only-of-type {\n",
       "        vertical-align: middle;\n",
       "    }\n",
       "\n",
       "    .dataframe tbody tr th {\n",
       "        vertical-align: top;\n",
       "    }\n",
       "\n",
       "    .dataframe thead th {\n",
       "        text-align: right;\n",
       "    }\n",
       "</style>\n",
       "<table border=\"1\" class=\"dataframe\">\n",
       "  <thead>\n",
       "    <tr style=\"text-align: right;\">\n",
       "      <th></th>\n",
       "      <th>status</th>\n",
       "      <th>count</th>\n",
       "    </tr>\n",
       "  </thead>\n",
       "  <tbody>\n",
       "    <tr>\n",
       "      <th>3</th>\n",
       "      <td>303</td>\n",
       "      <td>3407</td>\n",
       "    </tr>\n",
       "    <tr>\n",
       "      <th>0</th>\n",
       "      <td>200</td>\n",
       "      <td>2036</td>\n",
       "    </tr>\n",
       "    <tr>\n",
       "      <th>7</th>\n",
       "      <td>500</td>\n",
       "      <td>706</td>\n",
       "    </tr>\n",
       "    <tr>\n",
       "      <th>6</th>\n",
       "      <td>404</td>\n",
       "      <td>258</td>\n",
       "    </tr>\n",
       "    <tr>\n",
       "      <th>2</th>\n",
       "      <td>302</td>\n",
       "      <td>99</td>\n",
       "    </tr>\n",
       "    <tr>\n",
       "      <th>1</th>\n",
       "      <td>301</td>\n",
       "      <td>18</td>\n",
       "    </tr>\n",
       "    <tr>\n",
       "      <th>4</th>\n",
       "      <td>400</td>\n",
       "      <td>12</td>\n",
       "    </tr>\n",
       "    <tr>\n",
       "      <th>5</th>\n",
       "      <td>403</td>\n",
       "      <td>3</td>\n",
       "    </tr>\n",
       "  </tbody>\n",
       "</table>\n",
       "</div>"
      ],
      "text/plain": [
       "   status  count\n",
       "3     303   3407\n",
       "0     200   2036\n",
       "7     500    706\n",
       "6     404    258\n",
       "2     302     99\n",
       "1     301     18\n",
       "4     400     12\n",
       "5     403      3"
      ]
     },
     "execution_count": 45,
     "metadata": {},
     "output_type": "execute_result"
    }
   ],
   "source": [
    "status_freq_pd_df = (status_freq_df\n",
    "                         .toPandas()\n",
    "                         .sort_values(by=['count'],\n",
    "                                      ascending=False))\n",
    "status_freq_pd_df"
   ]
  },
  {
   "cell_type": "code",
   "execution_count": 46,
   "metadata": {
    "scrolled": false
   },
   "outputs": [
    {
     "data": {
      "text/plain": [
       "<seaborn.axisgrid.FacetGrid at 0x7fb742e1c3c8>"
      ]
     },
     "execution_count": 46,
     "metadata": {},
     "output_type": "execute_result"
    },
    {
     "data": {
      "image/png": "[encoded data removed]",
      "text/plain": [
       "<Figure size 360x360 with 1 Axes>"
      ]
     },
     "metadata": {
      "needs_background": "light"
     },
     "output_type": "display_data"
    }
   ],
   "source": [
    "import matplotlib.pyplot as plt\n",
    "import seaborn as sns\n",
    "import numpy as np\n",
    "%matplotlib inline\n",
    "\n",
    "sns.catplot(x='status', y='count', data=status_freq_pd_df, \n",
    "            kind='bar', order=status_freq_pd_df['status'])"
   ]
  },
  {
   "cell_type": "code",
   "execution_count": 47,
   "metadata": {
    "scrolled": true
   },
   "outputs": [
    {
     "name": "stdout",
     "output_type": "stream",
     "text": [
      "+------+-----+------------------+\n",
      "|status|count|        log(count)|\n",
      "+------+-----+------------------+\n",
      "|   200| 2036| 7.618742377670413|\n",
      "|   301|   18|2.8903717578961645|\n",
      "|   302|   99|  4.59511985013459|\n",
      "|   303| 3407| 8.133587417660966|\n",
      "|   400|   12|2.4849066497880004|\n",
      "|   403|    3|1.0986122886681096|\n",
      "|   404|  258| 5.552959584921617|\n",
      "|   500|  706| 6.559615237493242|\n",
      "+------+-----+------------------+\n",
      "\n"
     ]
    }
   ],
   "source": [
    "log_freq_df = status_freq_df.withColumn('log(count)', F.log(status_freq_df['count']))\n",
    "log_freq_df.show()"
   ]
  },
  {
   "cell_type": "code",
   "execution_count": 48,
   "metadata": {
    "scrolled": false
   },
   "outputs": [
    {
     "data": {
      "text/plain": [
       "<seaborn.axisgrid.FacetGrid at 0x7fb74052c278>"
      ]
     },
     "execution_count": 48,
     "metadata": {},
     "output_type": "execute_result"
    },
    {
     "data": {
      "image/png": "[encoded data removed]",
      "text/plain": [
       "<Figure size 360x360 with 1 Axes>"
      ]
     },
     "metadata": {
      "needs_background": "light"
     },
     "output_type": "display_data"
    }
   ],
   "source": [
    "log_freq_pd_df = (log_freq_df\n",
    "                    .toPandas()\n",
    "                    .sort_values(by=['log(count)'],\n",
    "                                 ascending=False))\n",
    "sns.catplot(x='status', y='log(count)', data=log_freq_pd_df, \n",
    "            kind='bar', order=status_freq_pd_df['status'])"
   ]
  },
  {
   "cell_type": "markdown",
   "metadata": {},
   "source": [
    "\n",
    "<h2 style=\"color:blue;\">HTTP methods Analysis</h2>"
   ]
  },
  {
   "cell_type": "code",
   "execution_count": 54,
   "metadata": {},
   "outputs": [],
   "source": [
    "method_freq_df = (logs_df\n",
    "                     .groupBy('method')\n",
    "                     .count()\n",
    "                     .sort('method')\n",
    "                     .cache())"
   ]
  },
  {
   "cell_type": "code",
   "execution_count": 55,
   "metadata": {},
   "outputs": [
    {
     "name": "stdout",
     "output_type": "stream",
     "text": [
      "Total distinct HTTP Status Codes: 3\n"
     ]
    }
   ],
   "source": [
    "print('Total distinct HTTP Status Codes:', method_freq_df.count())"
   ]
  },
  {
   "cell_type": "code",
   "execution_count": 56,
   "metadata": {},
   "outputs": [
    {
     "data": {
      "text/html": [
       "<div>\n",
       "<style scoped>\n",
       "    .dataframe tbody tr th:only-of-type {\n",
       "        vertical-align: middle;\n",
       "    }\n",
       "\n",
       "    .dataframe tbody tr th {\n",
       "        vertical-align: top;\n",
       "    }\n",
       "\n",
       "    .dataframe thead th {\n",
       "        text-align: right;\n",
       "    }\n",
       "</style>\n",
       "<table border=\"1\" class=\"dataframe\">\n",
       "  <thead>\n",
       "    <tr style=\"text-align: right;\">\n",
       "      <th></th>\n",
       "      <th>method</th>\n",
       "      <th>count</th>\n",
       "    </tr>\n",
       "  </thead>\n",
       "  <tbody>\n",
       "    <tr>\n",
       "      <th>2</th>\n",
       "      <td>POST</td>\n",
       "      <td>5499</td>\n",
       "    </tr>\n",
       "    <tr>\n",
       "      <th>1</th>\n",
       "      <td>GET</td>\n",
       "      <td>1039</td>\n",
       "    </tr>\n",
       "    <tr>\n",
       "      <th>0</th>\n",
       "      <td>-\"</td>\n",
       "      <td>1</td>\n",
       "    </tr>\n",
       "  </tbody>\n",
       "</table>\n",
       "</div>"
      ],
      "text/plain": [
       "  method  count\n",
       "2   POST   5499\n",
       "1    GET   1039\n",
       "0     -\"      1"
      ]
     },
     "execution_count": 56,
     "metadata": {},
     "output_type": "execute_result"
    }
   ],
   "source": [
    "method_freq_pd_df = (method_freq_df\n",
    "                         .toPandas()\n",
    "                         .sort_values(by=['count'],\n",
    "                                      ascending=False))\n",
    "method_freq_pd_df"
   ]
  },
  {
   "cell_type": "code",
   "execution_count": 59,
   "metadata": {},
   "outputs": [
    {
     "data": {
      "text/plain": [
       "<seaborn.axisgrid.FacetGrid at 0x7fb740081710>"
      ]
     },
     "execution_count": 59,
     "metadata": {},
     "output_type": "execute_result"
    },
    {
     "data": {
      "image/png": "[encoded data removed]",
      "text/plain": [
       "<Figure size 360x360 with 1 Axes>"
      ]
     },
     "metadata": {
      "needs_background": "light"
     },
     "output_type": "display_data"
    }
   ],
   "source": [
    "import matplotlib.pyplot as plt\n",
    "import seaborn as sns\n",
    "import numpy as np\n",
    "%matplotlib inline\n",
    "\n",
    "sns.catplot(x='method', y='count', data=method_freq_pd_df, \n",
    "            kind='bar', order=method_freq_pd_df['method'])"
   ]
  },
  {
   "cell_type": "code",
   "execution_count": 61,
   "metadata": {},
   "outputs": [
    {
     "name": "stdout",
     "output_type": "stream",
     "text": [
      "+------+-----+-----------------+\n",
      "|method|count|       log(count)|\n",
      "+------+-----+-----------------+\n",
      "|    -\"|    1|              0.0|\n",
      "|   GET| 1039|6.946013991099227|\n",
      "|  POST| 5499|8.612321536507814|\n",
      "+------+-----+-----------------+\n",
      "\n"
     ]
    }
   ],
   "source": [
    "mlog_freq_df = method_freq_df.withColumn('log(count)', F.log(method_freq_df['count']))\n",
    "mlog_freq_df.show()"
   ]
  },
  {
   "cell_type": "code",
   "execution_count": 63,
   "metadata": {},
   "outputs": [
    {
     "data": {
      "text/plain": [
       "<seaborn.axisgrid.FacetGrid at 0x7fb73fe21358>"
      ]
     },
     "execution_count": 63,
     "metadata": {},
     "output_type": "execute_result"
    },
    {
     "data": {
      "image/png": "[encoded data removed]",
      "text/plain": [
       "<Figure size 360x360 with 1 Axes>"
      ]
     },
     "metadata": {
      "needs_background": "light"
     },
     "output_type": "display_data"
    }
   ],
   "source": [
    "mlog_freq_pd_df = (mlog_freq_df\n",
    "                    .toPandas()\n",
    "                    .sort_values(by=['log(count)'],\n",
    "                                 ascending=False))\n",
    "sns.catplot(x='method', y='log(count)', data=mlog_freq_pd_df, \n",
    "            kind='bar', order=method_freq_pd_df['method'])"
   ]
  },
  {
   "cell_type": "markdown",
   "metadata": {},
   "source": [
    "\n",
    "<h2 style=\"color:blue;\">Analyzing Frequent Hosts</h2>\n",
    "\n",
    "<h4>Let's look at hosts that have accessed the server frequently. We will try to get the count of total accesses by each host and then sort by the counts and display only the top ten most frequent hosts.</h4>"
   ]
  },
  {
   "cell_type": "code",
   "execution_count": 49,
   "metadata": {
    "scrolled": true
   },
   "outputs": [
    {
     "name": "stdout",
     "output_type": "stream",
     "text": [
      "+-------------+-----+\n",
      "|host         |count|\n",
      "+-------------+-----+\n",
      "|\"192.168.4.25|6539 |\n",
      "+-------------+-----+\n",
      "\n"
     ]
    }
   ],
   "source": [
    "host_sum_df =(logs_df\n",
    "               .groupBy('host')\n",
    "               .count()\n",
    "               .sort('count', ascending=False))\n",
    "\n",
    "host_sum_df.show(truncate=False)"
   ]
  },
  {
   "cell_type": "code",
   "execution_count": 50,
   "metadata": {
    "scrolled": true
   },
   "outputs": [
    {
     "data": {
      "text/plain": [
       "'\"192.168.4.25'"
      ]
     },
     "execution_count": 50,
     "metadata": {},
     "output_type": "execute_result"
    }
   ],
   "source": [
    "host_sum_pd_df = host_sum_df.toPandas()\n",
    "host_sum_pd_df.iloc[0]['host']"
   ]
  },
  {
   "cell_type": "markdown",
   "metadata": {},
   "source": [
    "\n",
    "<h2 style=\"color:blue;\">Display the  Frequent EndPoints</h2>\n"
   ]
  },
  {
   "cell_type": "code",
   "execution_count": 54,
   "metadata": {
    "scrolled": true
   },
   "outputs": [],
   "source": [
    "paths_df = (logs_df\n",
    "            .groupBy('endpoint')\n",
    "            .count()\n",
    "            .sort('count', ascending=False))"
   ]
  },
  {
   "cell_type": "code",
   "execution_count": 55,
   "metadata": {
    "scrolled": false
   },
   "outputs": [
    {
     "data": {
      "text/html": [
       "<div>\n",
       "<style scoped>\n",
       "    .dataframe tbody tr th:only-of-type {\n",
       "        vertical-align: middle;\n",
       "    }\n",
       "\n",
       "    .dataframe tbody tr th {\n",
       "        vertical-align: top;\n",
       "    }\n",
       "\n",
       "    .dataframe thead th {\n",
       "        text-align: right;\n",
       "    }\n",
       "</style>\n",
       "<table border=\"1\" class=\"dataframe\">\n",
       "  <thead>\n",
       "    <tr style=\"text-align: right;\">\n",
       "      <th></th>\n",
       "      <th>endpoint</th>\n",
       "      <th>count</th>\n",
       "    </tr>\n",
       "  </thead>\n",
       "  <tbody>\n",
       "    <tr>\n",
       "      <th>0</th>\n",
       "      <td>/index.php/component/search/</td>\n",
       "      <td>4167</td>\n",
       "    </tr>\n",
       "    <tr>\n",
       "      <th>1</th>\n",
       "      <td>/index.php</td>\n",
       "      <td>579</td>\n",
       "    </tr>\n",
       "    <tr>\n",
       "      <th>2</th>\n",
       "      <td>/administrator/index.php</td>\n",
       "      <td>307</td>\n",
       "    </tr>\n",
       "    <tr>\n",
       "      <th>3</th>\n",
       "      <td>/index.php/component/users/?task=user.login</td>\n",
       "      <td>184</td>\n",
       "    </tr>\n",
       "    <tr>\n",
       "      <th>4</th>\n",
       "      <td>/index.php/component/users/?task=registration....</td>\n",
       "      <td>114</td>\n",
       "    </tr>\n",
       "    <tr>\n",
       "      <th>...</th>\n",
       "      <td>...</td>\n",
       "      <td>...</td>\n",
       "    </tr>\n",
       "    <tr>\n",
       "      <th>933</th>\n",
       "      <td>/'\\\"/component/search/</td>\n",
       "      <td>1</td>\n",
       "    </tr>\n",
       "    <tr>\n",
       "      <th>934</th>\n",
       "      <td>/index.php/component/users/?task=qTo3ig5t'));s...</td>\n",
       "      <td>1</td>\n",
       "    </tr>\n",
       "    <tr>\n",
       "      <th>935</th>\n",
       "      <td>/index.php/component/search/?ordering=category...</td>\n",
       "      <td>1</td>\n",
       "    </tr>\n",
       "    <tr>\n",
       "      <th>936</th>\n",
       "      <td>/index.php/component/content/?format=feed&amp;type...</td>\n",
       "      <td>1</td>\n",
       "    </tr>\n",
       "    <tr>\n",
       "      <th>937</th>\n",
       "      <td>/index.php/component/search/?searchword={{1000...</td>\n",
       "      <td>1</td>\n",
       "    </tr>\n",
       "  </tbody>\n",
       "</table>\n",
       "<p>938 rows × 2 columns</p>\n",
       "</div>"
      ],
      "text/plain": [
       "                                              endpoint  count\n",
       "0                         /index.php/component/search/   4167\n",
       "1                                           /index.php    579\n",
       "2                             /administrator/index.php    307\n",
       "3          /index.php/component/users/?task=user.login    184\n",
       "4    /index.php/component/users/?task=registration....    114\n",
       "..                                                 ...    ...\n",
       "933                             /'\\\"/component/search/      1\n",
       "934  /index.php/component/users/?task=qTo3ig5t'));s...      1\n",
       "935  /index.php/component/search/?ordering=category...      1\n",
       "936  /index.php/component/content/?format=feed&type...      1\n",
       "937  /index.php/component/search/?searchword={{1000...      1\n",
       "\n",
       "[938 rows x 2 columns]"
      ]
     },
     "execution_count": 55,
     "metadata": {},
     "output_type": "execute_result"
    }
   ],
   "source": [
    "paths_pd_df = paths_df.toPandas()\n",
    "paths_pd_df"
   ]
  },
  {
   "cell_type": "markdown",
   "metadata": {},
   "source": [
    "\n",
    "<h2 style=\"color:blue;\"> Error Endpoints</h2>\n"
   ]
  },
  {
   "cell_type": "code",
   "execution_count": 58,
   "metadata": {
    "scrolled": true
   },
   "outputs": [],
   "source": [
    "not200_df = (logs_df\n",
    "               .filter(logs_df['status'] != 200))\n",
    "\n",
    "error_endpoints_freq_df = (not200_df\n",
    "                               .groupBy('endpoint')\n",
    "                               .count()\n",
    "                               .sort('count', ascending=False)\n",
    "                          )"
   ]
  },
  {
   "cell_type": "code",
   "execution_count": 59,
   "metadata": {
    "scrolled": true
   },
   "outputs": [
    {
     "name": "stdout",
     "output_type": "stream",
     "text": [
      "+----------------------------------------------------------------------------------------------------------------+-----+\n",
      "|endpoint                                                                                                        |count|\n",
      "+----------------------------------------------------------------------------------------------------------------+-----+\n",
      "|/index.php/component/search/                                                                                    |3330 |\n",
      "|/administrator/index.php                                                                                        |290  |\n",
      "|/index.php                                                                                                      |278  |\n",
      "|/index.php/component/users/?task=user.login                                                                     |94   |\n",
      "|/DVWA/login.php                                                                                                 |40   |\n",
      "|/index.php/component/users/?task=registration.register                                                          |16   |\n",
      "|/DVWA/security.php                                                                                              |9    |\n",
      "|/DVWA/                                                                                                          |4    |\n",
      "|/index.php?format=feed&type=../.../.././../.../.././../.../.././../.../.././../.../.././../.../.././etc/passwd  |2    |\n",
      "|/DVWA/vulnerabilities/fi?page=%E5%98%8A%E5%98%8DSomeCustomInjectedHeader:%20injected_by_wvs                     |2    |\n",
      "|/DVWA/vulnerabilities/xss_s/                                                                                    |2    |\n",
      "|/DVWA/security.php?phpids=-1\\\"%20OR%202%2b418-418-1=0%2b0%2b0%2b1%20--%20                                       |2    |\n",
      "|/index.php<img/src=\\\">\\\"%20onerror=alert(9165)>/2-uncategorised/1-testsayfasi                                   |2    |\n",
      "|/%24(nslookup%20wM4jKgxD)/component/content/article/2-uncategorised/1-testsayfasi                               |2    |\n",
      "|//component/users/                                                                                              |2    |\n",
      "|/http://www.vulnweb.com/component/users/                                                                        |2    |\n",
      "|/index.html                                                                                                     |2    |\n",
      "|/index.php/component/content/?format=feed&type=atom&view=%c4%8d%c4%8aSomeCustomInjectedHeader:%20injected_by_wvs|2    |\n",
      "|/1%00%c0%a7%c0%a2%252527%252522/2-uncategorised/1-testsayfasi                                                   |2    |\n",
      "|/DVWA/logout.php                                                                                                |2    |\n",
      "+----------------------------------------------------------------------------------------------------------------+-----+\n",
      "only showing top 20 rows\n",
      "\n"
     ]
    }
   ],
   "source": [
    "error_endpoints_freq_df.show(truncate=False)"
   ]
  },
  {
   "cell_type": "markdown",
   "metadata": {},
   "source": [
    "\n",
    "<h2 style=\"color:blue;\"> Total number of Unique Hosts</h2>\n",
    "\n",
    "\n"
   ]
  },
  {
   "cell_type": "code",
   "execution_count": 60,
   "metadata": {
    "scrolled": true
   },
   "outputs": [
    {
     "data": {
      "text/plain": [
       "1"
      ]
     },
     "execution_count": 60,
     "metadata": {},
     "output_type": "execute_result"
    }
   ],
   "source": [
    "unique_host_count = (logs_df\n",
    "                     .select('host')\n",
    "                     .distinct()\n",
    "                     .count())\n",
    "unique_host_count"
   ]
  },
  {
   "cell_type": "markdown",
   "metadata": {},
   "source": [
    "<h2 style=\"color:blue;\">Number of Unique Daily Hosts</h2>\n"
   ]
  },
  {
   "cell_type": "code",
   "execution_count": 63,
   "metadata": {
    "scrolled": true
   },
   "outputs": [
    {
     "name": "stdout",
     "output_type": "stream",
     "text": [
      "+-------------+---+\n",
      "|host         |day|\n",
      "+-------------+---+\n",
      "|\"192.168.4.25|22 |\n",
      "|\"192.168.4.25|22 |\n",
      "|\"192.168.4.25|22 |\n",
      "|\"192.168.4.25|22 |\n",
      "|\"192.168.4.25|22 |\n",
      "+-------------+---+\n",
      "only showing top 5 rows\n",
      "\n"
     ]
    }
   ],
   "source": [
    "host_day_df = logs_df.select(logs_df.host, \n",
    "                             F.dayofmonth('time').alias('day'))\n",
    "host_day_df.show(5, truncate=False)"
   ]
  },
  {
   "cell_type": "code",
   "execution_count": 64,
   "metadata": {
    "scrolled": true
   },
   "outputs": [
    {
     "name": "stdout",
     "output_type": "stream",
     "text": [
      "+-------------+---+\n",
      "|host         |day|\n",
      "+-------------+---+\n",
      "|\"192.168.4.25|22 |\n",
      "+-------------+---+\n",
      "\n"
     ]
    }
   ],
   "source": [
    "host_day_distinct_df = (host_day_df\n",
    "                          .dropDuplicates())\n",
    "host_day_distinct_df.show(5, truncate=False)"
   ]
  },
  {
   "cell_type": "code",
   "execution_count": 65,
   "metadata": {
    "scrolled": true
   },
   "outputs": [
    {
     "data": {
      "text/html": [
       "<div>\n",
       "<style scoped>\n",
       "    .dataframe tbody tr th:only-of-type {\n",
       "        vertical-align: middle;\n",
       "    }\n",
       "\n",
       "    .dataframe tbody tr th {\n",
       "        vertical-align: top;\n",
       "    }\n",
       "\n",
       "    .dataframe thead th {\n",
       "        text-align: right;\n",
       "    }\n",
       "</style>\n",
       "<table border=\"1\" class=\"dataframe\">\n",
       "  <thead>\n",
       "    <tr style=\"text-align: right;\">\n",
       "      <th></th>\n",
       "      <th>day</th>\n",
       "      <th>count</th>\n",
       "    </tr>\n",
       "  </thead>\n",
       "  <tbody>\n",
       "    <tr>\n",
       "      <th>0</th>\n",
       "      <td>22</td>\n",
       "      <td>1</td>\n",
       "    </tr>\n",
       "  </tbody>\n",
       "</table>\n",
       "</div>"
      ],
      "text/plain": [
       "   day  count\n",
       "0   22      1"
      ]
     },
     "execution_count": 65,
     "metadata": {},
     "output_type": "execute_result"
    }
   ],
   "source": [
    "def_mr = pd.get_option('max_rows')\n",
    "pd.set_option('max_rows', 10)\n",
    "\n",
    "daily_hosts_df = (host_day_distinct_df\n",
    "                     .groupBy('day')\n",
    "                     .count()\n",
    "                     .sort(\"day\"))\n",
    "\n",
    "daily_hosts_df = daily_hosts_df.toPandas()\n",
    "daily_hosts_df"
   ]
  },
  {
   "cell_type": "code",
   "execution_count": 66,
   "metadata": {
    "scrolled": false
   },
   "outputs": [
    {
     "data": {
      "image/png": "[encoded data removed]",
      "text/plain": [
       "<Figure size 540x360 with 1 Axes>"
      ]
     },
     "metadata": {
      "needs_background": "light"
     },
     "output_type": "display_data"
    }
   ],
   "source": [
    "c = sns.catplot(x='day', y='count', \n",
    "                data=daily_hosts_df, \n",
    "                kind='point', height=5, \n",
    "                aspect=1.5)"
   ]
  },
  {
   "cell_type": "markdown",
   "metadata": {},
   "source": [
    "\n",
    "<h2 style=\"color:blue;\">Average Number of Daily Requests per Host</h4>\n"
   ]
  },
  {
   "cell_type": "code",
   "execution_count": 67,
   "metadata": {
    "scrolled": true
   },
   "outputs": [
    {
     "data": {
      "text/html": [
       "<div>\n",
       "<style scoped>\n",
       "    .dataframe tbody tr th:only-of-type {\n",
       "        vertical-align: middle;\n",
       "    }\n",
       "\n",
       "    .dataframe tbody tr th {\n",
       "        vertical-align: top;\n",
       "    }\n",
       "\n",
       "    .dataframe thead th {\n",
       "        text-align: right;\n",
       "    }\n",
       "</style>\n",
       "<table border=\"1\" class=\"dataframe\">\n",
       "  <thead>\n",
       "    <tr style=\"text-align: right;\">\n",
       "      <th></th>\n",
       "      <th>day</th>\n",
       "      <th>total_reqs</th>\n",
       "      <th>total_hosts</th>\n",
       "      <th>avg_reqs</th>\n",
       "    </tr>\n",
       "  </thead>\n",
       "  <tbody>\n",
       "    <tr>\n",
       "      <th>0</th>\n",
       "      <td>22</td>\n",
       "      <td>6539</td>\n",
       "      <td>1</td>\n",
       "      <td>6539.0</td>\n",
       "    </tr>\n",
       "  </tbody>\n",
       "</table>\n",
       "</div>"
      ],
      "text/plain": [
       "   day  total_reqs  total_hosts  avg_reqs\n",
       "0   22        6539            1    6539.0"
      ]
     },
     "execution_count": 67,
     "metadata": {},
     "output_type": "execute_result"
    }
   ],
   "source": [
    "daily_hosts_df = (host_day_distinct_df\n",
    "                     .groupBy('day')\n",
    "                     .count()\n",
    "                     .select(col(\"day\"), \n",
    "                                      col(\"count\").alias(\"total_hosts\")))\n",
    "\n",
    "total_daily_reqests_df = (logs_df\n",
    "                              .select(F.dayofmonth(\"time\")\n",
    "                                          .alias(\"day\"))\n",
    "                              .groupBy(\"day\")\n",
    "                              .count()\n",
    "                              .select(col(\"day\"), \n",
    "                                      col(\"count\").alias(\"total_reqs\")))\n",
    "\n",
    "avg_daily_reqests_per_host_df = total_daily_reqests_df.join(daily_hosts_df, 'day')\n",
    "avg_daily_reqests_per_host_df = (avg_daily_reqests_per_host_df\n",
    "                                    .withColumn('avg_reqs', col('total_reqs') / col('total_hosts'))\n",
    "                                    .sort(\"day\"))\n",
    "avg_daily_reqests_per_host_df = avg_daily_reqests_per_host_df.toPandas()\n",
    "avg_daily_reqests_per_host_df"
   ]
  },
  {
   "cell_type": "code",
   "execution_count": 68,
   "metadata": {
    "scrolled": false
   },
   "outputs": [
    {
     "data": {
      "image/png": "[encoded data removed]",
      "text/plain": [
       "<Figure size 540x360 with 1 Axes>"
      ]
     },
     "metadata": {
      "needs_background": "light"
     },
     "output_type": "display_data"
    }
   ],
   "source": [
    "c = sns.catplot(x='day', y='avg_reqs', \n",
    "                data=avg_daily_reqests_per_host_df, \n",
    "                kind='point', height=5, aspect=1.5)"
   ]
  },
  {
   "cell_type": "markdown",
   "metadata": {},
   "source": [
    "\n",
    "<h2 style=\"color:blue;\">Counting 404 Response Codes</h2>\n",
    "\n"
   ]
  },
  {
   "cell_type": "code",
   "execution_count": 69,
   "metadata": {
    "scrolled": true
   },
   "outputs": [
    {
     "name": "stdout",
     "output_type": "stream",
     "text": [
      "Total 404 responses: 258\n"
     ]
    }
   ],
   "source": [
    "not_found_df = logs_df.filter(logs_df[\"status\"] == 404).cache()\n",
    "print(('Total 404 responses: {}').format(not_found_df.count()))"
   ]
  },
  {
   "cell_type": "markdown",
   "metadata": {},
   "source": [
    "<h2 style=\"color:blue;\">Listing the Top Twenty 404 Response Code Endpoints</h2>"
   ]
  },
  {
   "cell_type": "code",
   "execution_count": 70,
   "metadata": {
    "scrolled": false
   },
   "outputs": [
    {
     "name": "stdout",
     "output_type": "stream",
     "text": [
      "+---------------------------------------------------------------------------------------------------------------------------------------------------------------------------------------------------------------------+-----+\n",
      "|endpoint                                                                                                                                                                                                             |count|\n",
      "+---------------------------------------------------------------------------------------------------------------------------------------------------------------------------------------------------------------------+-----+\n",
      "|/index.php                                                                                                                                                                                                           |47   |\n",
      "|/index.php/component/users/?task=registration.register                                                                                                                                                               |13   |\n",
      "|/http://www.vulnweb.com/component/users/                                                                                                                                                                             |2    |\n",
      "|/response.write(9480314*9217198)/component/search/                                                                                                                                                                   |2    |\n",
      "|/admin/mysql/main.php                                                                                                                                                                                                |2    |\n",
      "|/index.html                                                                                                                                                                                                          |2    |\n",
      "|/index.php<img/src=\\\">\\\"%20onerror=alert(9165)>/2-uncategorised/1-testsayfasi                                                                                                                                        |2    |\n",
      "|/%24(nslookup%20wM4jKgxD)/component/content/article/2-uncategorised/1-testsayfasi                                                                                                                                    |2    |\n",
      "|//component/users/                                                                                                                                                                                                   |2    |\n",
      "|/1%00%c0%a7%c0%a2%252527%252522/2-uncategorised/1-testsayfasi                                                                                                                                                        |2    |\n",
      "|//en/account/register                                                                                                                                                                                                |2    |\n",
      "|/%2569%256E%2564%2565%2578%252E%2570%2568%2570%253C%2553%2563%2552%2569%2550%2574%2520%253E%254B%256D%2550%2547%25289291%2529%253C%252F%2573%2543%2572%2569%2570%2554%253E/component/content/category/2-uncategorised|2    |\n",
      "|/';print(md5(acunetix_wvs_security_test));%24a='/component/users/                                                                                                                                                    |2    |\n",
      "|/index.php/component/content/category/%24{%40print(md5(acunetix_wvs_security_test))}%5c-uncategorised                                                                                                                |2    |\n",
      "|/index.php/component/content//../..//../..//../..//../..//../..//etc/passwd%00.jpg/2-uncategorised/1-testsayfasi                                                                                                     |2    |\n",
      "|/index.php/HvWHLLCJ/search/                                                                                                                                                                                          |1    |\n",
      "|//WEB-INF/web.xml%20(copy)                                                                                                                                                                                           |1    |\n",
      "|/%26nslookup%20OENbNEQG%26'%5c\\\"`0%26nslookup%20OENbNEQG%26`'/2-uncategorised/1-testsayfasi                                                                                                                          |1    |\n",
      "|/gqdZichO83.cfm                                                                                                                                                                                                      |1    |\n",
      "|/index.php?option=\\\"%2bresponse.write(9696274*9944323)%2b\\\"                                                                                                                                                          |1    |\n",
      "+---------------------------------------------------------------------------------------------------------------------------------------------------------------------------------------------------------------------+-----+\n",
      "\n"
     ]
    }
   ],
   "source": [
    "endpoints_404_count_df = (not_found_df\n",
    "                          .groupBy(\"endpoint\")\n",
    "                          .count()\n",
    "                          .sort(\"count\", ascending=False)\n",
    "                          .limit(20))\n",
    "\n",
    "endpoints_404_count_df.show(truncate=False)"
   ]
  },
  {
   "cell_type": "markdown",
   "metadata": {},
   "source": [
    "<h2 style=\"color:blue;\">Listing the Top Twenty 404 Response Code Hosts</h2>"
   ]
  },
  {
   "cell_type": "code",
   "execution_count": 71,
   "metadata": {
    "scrolled": true
   },
   "outputs": [
    {
     "name": "stdout",
     "output_type": "stream",
     "text": [
      "+-------------+-----+\n",
      "|host         |count|\n",
      "+-------------+-----+\n",
      "|\"192.168.4.25|258  |\n",
      "+-------------+-----+\n",
      "\n"
     ]
    }
   ],
   "source": [
    "hosts_404_count_df = (not_found_df\n",
    "                          .groupBy(\"host\")\n",
    "                          .count()\n",
    "                          .sort(\"count\", ascending=False)\n",
    "                          .limit(20))\n",
    "\n",
    "hosts_404_count_df.show(truncate=False)"
   ]
  },
  {
   "cell_type": "markdown",
   "metadata": {},
   "source": [
    "<h2 style=\"color:blue;\">Visualizing 404 Errors per Day</h2>"
   ]
  },
  {
   "cell_type": "code",
   "execution_count": 72,
   "metadata": {
    "scrolled": true
   },
   "outputs": [
    {
     "data": {
      "text/html": [
       "<div>\n",
       "<style scoped>\n",
       "    .dataframe tbody tr th:only-of-type {\n",
       "        vertical-align: middle;\n",
       "    }\n",
       "\n",
       "    .dataframe tbody tr th {\n",
       "        vertical-align: top;\n",
       "    }\n",
       "\n",
       "    .dataframe thead th {\n",
       "        text-align: right;\n",
       "    }\n",
       "</style>\n",
       "<table border=\"1\" class=\"dataframe\">\n",
       "  <thead>\n",
       "    <tr style=\"text-align: right;\">\n",
       "      <th></th>\n",
       "      <th>day</th>\n",
       "      <th>count</th>\n",
       "    </tr>\n",
       "  </thead>\n",
       "  <tbody>\n",
       "    <tr>\n",
       "      <th>0</th>\n",
       "      <td>22</td>\n",
       "      <td>258</td>\n",
       "    </tr>\n",
       "  </tbody>\n",
       "</table>\n",
       "</div>"
      ],
      "text/plain": [
       "   day  count\n",
       "0   22    258"
      ]
     },
     "execution_count": 72,
     "metadata": {},
     "output_type": "execute_result"
    }
   ],
   "source": [
    "errors_by_date_sorted_df = (not_found_df\n",
    "                                .groupBy(F.dayofmonth('time').alias('day'))\n",
    "                                .count()\n",
    "                                .sort(\"day\"))\n",
    "\n",
    "errors_by_date_sorted_pd_df = errors_by_date_sorted_df.toPandas()\n",
    "errors_by_date_sorted_pd_df"
   ]
  },
  {
   "cell_type": "code",
   "execution_count": 73,
   "metadata": {
    "scrolled": false
   },
   "outputs": [
    {
     "data": {
      "image/png": "[encoded data removed]",
      "text/plain": [
       "<Figure size 540x360 with 1 Axes>"
      ]
     },
     "metadata": {
      "needs_background": "light"
     },
     "output_type": "display_data"
    }
   ],
   "source": [
    "c = sns.catplot(x='day', y='count', \n",
    "                data=errors_by_date_sorted_pd_df, \n",
    "                kind='point', height=5, aspect=1.5)"
   ]
  },
  {
   "cell_type": "markdown",
   "metadata": {},
   "source": [
    "<h2 style=\"color:blue;\">Top Three Days for 404 Errors</h2>"
   ]
  },
  {
   "cell_type": "code",
   "execution_count": 74,
   "metadata": {
    "scrolled": true
   },
   "outputs": [
    {
     "name": "stdout",
     "output_type": "stream",
     "text": [
      "+---+-----+\n",
      "|day|count|\n",
      "+---+-----+\n",
      "| 22|  258|\n",
      "+---+-----+\n",
      "\n"
     ]
    }
   ],
   "source": [
    "(errors_by_date_sorted_df\n",
    "    .sort(\"count\", ascending=False)\n",
    "    .show(3))"
   ]
  },
  {
   "cell_type": "markdown",
   "metadata": {},
   "source": [
    "<h2 style=\"color:blue;\">Visualizing Hourly 404 Errors</h2>"
   ]
  },
  {
   "cell_type": "code",
   "execution_count": 68,
   "metadata": {
    "scrolled": true
   },
   "outputs": [],
   "source": [
    "hourly_avg_errors_sorted_df = (not_found_df\n",
    "                                   .groupBy(F.hour('time')\n",
    "                                             .alias('hour'))\n",
    "                                   .count()\n",
    "                                   .sort('hour'))\n",
    "hourly_avg_errors_sorted_pd_df = hourly_avg_errors_sorted_df.toPandas()"
   ]
  },
  {
   "cell_type": "code",
   "execution_count": 69,
   "metadata": {
    "scrolled": true
   },
   "outputs": [
    {
     "data": {
      "image/png": "[encoded data removed]",
      "text/plain": [
       "<Figure size 540x360 with 1 Axes>"
      ]
     },
     "metadata": {
      "needs_background": "light"
     },
     "output_type": "display_data"
    }
   ],
   "source": [
    "c = sns.catplot(x='hour', y='count', \n",
    "                data=hourly_avg_errors_sorted_pd_df, \n",
    "                kind='bar', height=5, aspect=1.5)"
   ]
  },
  {
   "cell_type": "code",
   "execution_count": null,
   "metadata": {
    "scrolled": true
   },
   "outputs": [],
   "source": []
  }
 ],
 "metadata": {
  "celltoolbar": "Raw Cell Format",
  "kernelspec": {
   "display_name": "Python 3",
   "language": "python",
   "name": "python3"
  },
  "language_info": {
   "codemirror_mode": {
    "name": "ipython",
    "version": 3
   },
   "file_extension": ".py",
   "mimetype": "text/x-python",
   "name": "python",
   "nbconvert_exporter": "python",
   "pygments_lexer": "ipython3",
   "version": "3.7.4"
  }
 },
 "nbformat": 4,
 "nbformat_minor": 2
}
